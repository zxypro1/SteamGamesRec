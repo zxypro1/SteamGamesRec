{
  "cells": [
    {
      "cell_type": "markdown",
      "metadata": {
        "id": "Nsnhu9Wm7Aai"
      },
      "source": [
        "# Modelling"
      ]
    },
    {
      "cell_type": "code",
      "source": [
        "!pip install lightfm"
      ],
      "metadata": {
        "colab": {
          "base_uri": "https://localhost:8080/"
        },
        "id": "syWCIsOh7T-v",
        "outputId": "b56ce1a1-9674-4073-d3c7-144d6cdcf6ba"
      },
      "execution_count": 1,
      "outputs": [
        {
          "output_type": "stream",
          "name": "stdout",
          "text": [
            "Looking in indexes: https://pypi.org/simple, https://us-python.pkg.dev/colab-wheels/public/simple/\n",
            "Collecting lightfm\n",
            "  Downloading lightfm-1.16.tar.gz (310 kB)\n",
            "\u001b[K     |████████████████████████████████| 310 kB 3.5 MB/s \n",
            "\u001b[?25hRequirement already satisfied: numpy in /usr/local/lib/python3.7/dist-packages (from lightfm) (1.21.6)\n",
            "Requirement already satisfied: scipy>=0.17.0 in /usr/local/lib/python3.7/dist-packages (from lightfm) (1.7.3)\n",
            "Requirement already satisfied: requests in /usr/local/lib/python3.7/dist-packages (from lightfm) (2.23.0)\n",
            "Requirement already satisfied: scikit-learn in /usr/local/lib/python3.7/dist-packages (from lightfm) (1.0.2)\n",
            "Requirement already satisfied: chardet<4,>=3.0.2 in /usr/local/lib/python3.7/dist-packages (from requests->lightfm) (3.0.4)\n",
            "Requirement already satisfied: urllib3!=1.25.0,!=1.25.1,<1.26,>=1.21.1 in /usr/local/lib/python3.7/dist-packages (from requests->lightfm) (1.24.3)\n",
            "Requirement already satisfied: certifi>=2017.4.17 in /usr/local/lib/python3.7/dist-packages (from requests->lightfm) (2022.9.24)\n",
            "Requirement already satisfied: idna<3,>=2.5 in /usr/local/lib/python3.7/dist-packages (from requests->lightfm) (2.10)\n",
            "Requirement already satisfied: threadpoolctl>=2.0.0 in /usr/local/lib/python3.7/dist-packages (from scikit-learn->lightfm) (3.1.0)\n",
            "Requirement already satisfied: joblib>=0.11 in /usr/local/lib/python3.7/dist-packages (from scikit-learn->lightfm) (1.2.0)\n",
            "Building wheels for collected packages: lightfm\n",
            "  Building wheel for lightfm (setup.py) ... \u001b[?25l\u001b[?25hdone\n",
            "  Created wheel for lightfm: filename=lightfm-1.16-cp37-cp37m-linux_x86_64.whl size=705383 sha256=7ceaf480c8043ee08a91e8e1599219fbae394035850450d88c25e44642682031\n",
            "  Stored in directory: /root/.cache/pip/wheels/f8/56/28/5772a3bd3413d65f03aa452190b00898b680b10028a1021914\n",
            "Successfully built lightfm\n",
            "Installing collected packages: lightfm\n",
            "Successfully installed lightfm-1.16\n"
          ]
        }
      ]
    },
    {
      "cell_type": "code",
      "source": [
        "from google.colab import drive\n",
        "drive.mount('/content/drive')"
      ],
      "metadata": {
        "colab": {
          "base_uri": "https://localhost:8080/"
        },
        "id": "cysC0CuE8DAn",
        "outputId": "98fe1887-c8cb-4dbb-f9e3-b5134c1bbdf6"
      },
      "execution_count": 2,
      "outputs": [
        {
          "output_type": "stream",
          "name": "stdout",
          "text": [
            "Mounted at /content/drive\n"
          ]
        }
      ]
    },
    {
      "cell_type": "code",
      "execution_count": 3,
      "metadata": {
        "id": "ApxXAFyE7Aam"
      },
      "outputs": [],
      "source": [
        "# Import libraries\n",
        "\n",
        "import pandas as pd\n",
        "import numpy as np\n",
        "import matplotlib.pyplot as plt\n",
        "%matplotlib inline\n",
        "\n",
        "from scipy import sparse\n",
        "\n",
        "from lightfm import LightFM\n",
        "from sklearn.metrics.pairwise import cosine_similarity\n",
        "from lightfm.evaluation import precision_at_k\n",
        "from lightfm.evaluation import auc_score\n",
        "\n",
        "from scipy.spatial import distance\n",
        "\n",
        "from sklearn.manifold import TSNE\n",
        "\n",
        "from gensim.models.keyedvectors import WordEmbeddingsKeyedVectors\n",
        "\n",
        "import textwrap\n",
        "\n",
        "from resources import *\n",
        "\n",
        "import warnings\n",
        "warnings.filterwarnings(\"ignore\")"
      ]
    },
    {
      "cell_type": "code",
      "execution_count": 4,
      "metadata": {
        "id": "MAgKLkCL7Aap"
      },
      "outputs": [],
      "source": [
        "%run resources.py"
      ]
    },
    {
      "cell_type": "markdown",
      "metadata": {
        "id": "wLviexE67Aap"
      },
      "source": [
        "## Load data"
      ]
    },
    {
      "cell_type": "code",
      "execution_count": 5,
      "metadata": {
        "scrolled": true,
        "colab": {
          "base_uri": "https://localhost:8080/",
          "height": 206
        },
        "id": "0J8IPzob7Aaq",
        "outputId": "c074534a-f791-4162-cb53-260f2dd3f35e"
      },
      "outputs": [
        {
          "output_type": "execute_result",
          "data": {
            "text/plain": [
              "   uid  id  owned\n",
              "0    0  10    1.0\n",
              "1    1  10    1.0\n",
              "2    3  10    1.0\n",
              "3    4  10    1.0\n",
              "4   10  10    1.0"
            ],
            "text/html": [
              "\n",
              "  <div id=\"df-2e54bc4c-0122-4359-9284-73dd406b7c1b\">\n",
              "    <div class=\"colab-df-container\">\n",
              "      <div>\n",
              "<style scoped>\n",
              "    .dataframe tbody tr th:only-of-type {\n",
              "        vertical-align: middle;\n",
              "    }\n",
              "\n",
              "    .dataframe tbody tr th {\n",
              "        vertical-align: top;\n",
              "    }\n",
              "\n",
              "    .dataframe thead th {\n",
              "        text-align: right;\n",
              "    }\n",
              "</style>\n",
              "<table border=\"1\" class=\"dataframe\">\n",
              "  <thead>\n",
              "    <tr style=\"text-align: right;\">\n",
              "      <th></th>\n",
              "      <th>uid</th>\n",
              "      <th>id</th>\n",
              "      <th>owned</th>\n",
              "    </tr>\n",
              "  </thead>\n",
              "  <tbody>\n",
              "    <tr>\n",
              "      <th>0</th>\n",
              "      <td>0</td>\n",
              "      <td>10</td>\n",
              "      <td>1.0</td>\n",
              "    </tr>\n",
              "    <tr>\n",
              "      <th>1</th>\n",
              "      <td>1</td>\n",
              "      <td>10</td>\n",
              "      <td>1.0</td>\n",
              "    </tr>\n",
              "    <tr>\n",
              "      <th>2</th>\n",
              "      <td>3</td>\n",
              "      <td>10</td>\n",
              "      <td>1.0</td>\n",
              "    </tr>\n",
              "    <tr>\n",
              "      <th>3</th>\n",
              "      <td>4</td>\n",
              "      <td>10</td>\n",
              "      <td>1.0</td>\n",
              "    </tr>\n",
              "    <tr>\n",
              "      <th>4</th>\n",
              "      <td>10</td>\n",
              "      <td>10</td>\n",
              "      <td>1.0</td>\n",
              "    </tr>\n",
              "  </tbody>\n",
              "</table>\n",
              "</div>\n",
              "      <button class=\"colab-df-convert\" onclick=\"convertToInteractive('df-2e54bc4c-0122-4359-9284-73dd406b7c1b')\"\n",
              "              title=\"Convert this dataframe to an interactive table.\"\n",
              "              style=\"display:none;\">\n",
              "        \n",
              "  <svg xmlns=\"http://www.w3.org/2000/svg\" height=\"24px\"viewBox=\"0 0 24 24\"\n",
              "       width=\"24px\">\n",
              "    <path d=\"M0 0h24v24H0V0z\" fill=\"none\"/>\n",
              "    <path d=\"M18.56 5.44l.94 2.06.94-2.06 2.06-.94-2.06-.94-.94-2.06-.94 2.06-2.06.94zm-11 1L8.5 8.5l.94-2.06 2.06-.94-2.06-.94L8.5 2.5l-.94 2.06-2.06.94zm10 10l.94 2.06.94-2.06 2.06-.94-2.06-.94-.94-2.06-.94 2.06-2.06.94z\"/><path d=\"M17.41 7.96l-1.37-1.37c-.4-.4-.92-.59-1.43-.59-.52 0-1.04.2-1.43.59L10.3 9.45l-7.72 7.72c-.78.78-.78 2.05 0 2.83L4 21.41c.39.39.9.59 1.41.59.51 0 1.02-.2 1.41-.59l7.78-7.78 2.81-2.81c.8-.78.8-2.07 0-2.86zM5.41 20L4 18.59l7.72-7.72 1.47 1.35L5.41 20z\"/>\n",
              "  </svg>\n",
              "      </button>\n",
              "      \n",
              "  <style>\n",
              "    .colab-df-container {\n",
              "      display:flex;\n",
              "      flex-wrap:wrap;\n",
              "      gap: 12px;\n",
              "    }\n",
              "\n",
              "    .colab-df-convert {\n",
              "      background-color: #E8F0FE;\n",
              "      border: none;\n",
              "      border-radius: 50%;\n",
              "      cursor: pointer;\n",
              "      display: none;\n",
              "      fill: #1967D2;\n",
              "      height: 32px;\n",
              "      padding: 0 0 0 0;\n",
              "      width: 32px;\n",
              "    }\n",
              "\n",
              "    .colab-df-convert:hover {\n",
              "      background-color: #E2EBFA;\n",
              "      box-shadow: 0px 1px 2px rgba(60, 64, 67, 0.3), 0px 1px 3px 1px rgba(60, 64, 67, 0.15);\n",
              "      fill: #174EA6;\n",
              "    }\n",
              "\n",
              "    [theme=dark] .colab-df-convert {\n",
              "      background-color: #3B4455;\n",
              "      fill: #D2E3FC;\n",
              "    }\n",
              "\n",
              "    [theme=dark] .colab-df-convert:hover {\n",
              "      background-color: #434B5C;\n",
              "      box-shadow: 0px 1px 3px 1px rgba(0, 0, 0, 0.15);\n",
              "      filter: drop-shadow(0px 1px 2px rgba(0, 0, 0, 0.3));\n",
              "      fill: #FFFFFF;\n",
              "    }\n",
              "  </style>\n",
              "\n",
              "      <script>\n",
              "        const buttonEl =\n",
              "          document.querySelector('#df-2e54bc4c-0122-4359-9284-73dd406b7c1b button.colab-df-convert');\n",
              "        buttonEl.style.display =\n",
              "          google.colab.kernel.accessAllowed ? 'block' : 'none';\n",
              "\n",
              "        async function convertToInteractive(key) {\n",
              "          const element = document.querySelector('#df-2e54bc4c-0122-4359-9284-73dd406b7c1b');\n",
              "          const dataTable =\n",
              "            await google.colab.kernel.invokeFunction('convertToInteractive',\n",
              "                                                     [key], {});\n",
              "          if (!dataTable) return;\n",
              "\n",
              "          const docLinkHtml = 'Like what you see? Visit the ' +\n",
              "            '<a target=\"_blank\" href=https://colab.research.google.com/notebooks/data_table.ipynb>data table notebook</a>'\n",
              "            + ' to learn more about interactive tables.';\n",
              "          element.innerHTML = '';\n",
              "          dataTable['output_type'] = 'display_data';\n",
              "          await google.colab.output.renderOutput(dataTable, element);\n",
              "          const docLink = document.createElement('div');\n",
              "          docLink.innerHTML = docLinkHtml;\n",
              "          element.appendChild(docLink);\n",
              "        }\n",
              "      </script>\n",
              "    </div>\n",
              "  </div>\n",
              "  "
            ]
          },
          "metadata": {},
          "execution_count": 5
        }
      ],
      "source": [
        "# Load user items data\n",
        "recdata = pd.read_csv('/content/drive/MyDrive/data/csv/recdata.csv', index_col=0)\n",
        "recdata = recdata.rename(columns = {'variable':'id', 'value': 'owned'})\n",
        "recdata.head()"
      ]
    },
    {
      "cell_type": "code",
      "execution_count": 6,
      "metadata": {
        "colab": {
          "base_uri": "https://localhost:8080/",
          "height": 635
        },
        "id": "5UpxqeOo7Aar",
        "outputId": "2f9d436b-daa0-4bda-e37c-a45f45c52393"
      },
      "outputs": [
        {
          "output_type": "execute_result",
          "data": {
            "text/plain": [
              "          publisher                                             genres  \\\n",
              "0         Kotoshiro  ['Action', 'Casual', 'Indie', 'Simulation', 'S...   \n",
              "1  Making Fun, Inc.       ['Free to Play', 'Indie', 'RPG', 'Strategy']   \n",
              "2      Poolians.com  ['Casual', 'Free to Play', 'Indie', 'Simulatio...   \n",
              "3              彼岸领域                  ['Action', 'Adventure', 'Casual']   \n",
              "4               NaN                                                NaN   \n",
              "\n",
              "                  app_name                    title  \\\n",
              "0      Lost Summoner Kitty      Lost Summoner Kitty   \n",
              "1                Ironbound                Ironbound   \n",
              "2  Real Pool 3D - Poolians  Real Pool 3D - Poolians   \n",
              "3                  弹炸人2222                  弹炸人2222   \n",
              "4            Log Challenge                      NaN   \n",
              "\n",
              "                                                 url release_date  \\\n",
              "0  http://store.steampowered.com/app/761140/Lost_...   2018-01-04   \n",
              "1  http://store.steampowered.com/app/643980/Ironb...   2018-01-04   \n",
              "2  http://store.steampowered.com/app/670290/Real_...   2017-07-24   \n",
              "3     http://store.steampowered.com/app/767400/2222/   2017-12-07   \n",
              "4  http://store.steampowered.com/app/773570/Log_C...          NaN   \n",
              "\n",
              "                                                tags  discount_price  \\\n",
              "0  ['Strategy', 'Action', 'Indie', 'Casual', 'Sim...            4.49   \n",
              "1  ['Free to Play', 'Strategy', 'Indie', 'RPG', '...             NaN   \n",
              "2  ['Free to Play', 'Simulation', 'Sports', 'Casu...             NaN   \n",
              "3                  ['Action', 'Adventure', 'Casual']            0.83   \n",
              "4            ['Action', 'Indie', 'Casual', 'Sports']            1.79   \n",
              "\n",
              "                                         reviews_url  \\\n",
              "0  http://steamcommunity.com/app/761140/reviews/?...   \n",
              "1  http://steamcommunity.com/app/643980/reviews/?...   \n",
              "2  http://steamcommunity.com/app/670290/reviews/?...   \n",
              "3  http://steamcommunity.com/app/767400/reviews/?...   \n",
              "4  http://steamcommunity.com/app/773570/reviews/?...   \n",
              "\n",
              "                                               specs         price  \\\n",
              "0                                  ['Single-player']          4.99   \n",
              "1  ['Single-player', 'Multi-player', 'Online Mult...  Free To Play   \n",
              "2  ['Single-player', 'Multi-player', 'Online Mult...  Free to Play   \n",
              "3                                  ['Single-player']          0.99   \n",
              "4  ['Single-player', 'Full controller support', '...          2.99   \n",
              "\n",
              "   early_access        id         developer        sentiment  metascore  \n",
              "0         False  761140.0         Kotoshiro              NaN        NaN  \n",
              "1         False  643980.0  Secret Level SRL  Mostly Positive        NaN  \n",
              "2         False  670290.0      Poolians.com  Mostly Positive        NaN  \n",
              "3         False  767400.0              彼岸领域              NaN        NaN  \n",
              "4         False  773570.0               NaN              NaN        NaN  "
            ],
            "text/html": [
              "\n",
              "  <div id=\"df-37c3c0c2-0457-453d-a87f-f8014326036c\">\n",
              "    <div class=\"colab-df-container\">\n",
              "      <div>\n",
              "<style scoped>\n",
              "    .dataframe tbody tr th:only-of-type {\n",
              "        vertical-align: middle;\n",
              "    }\n",
              "\n",
              "    .dataframe tbody tr th {\n",
              "        vertical-align: top;\n",
              "    }\n",
              "\n",
              "    .dataframe thead th {\n",
              "        text-align: right;\n",
              "    }\n",
              "</style>\n",
              "<table border=\"1\" class=\"dataframe\">\n",
              "  <thead>\n",
              "    <tr style=\"text-align: right;\">\n",
              "      <th></th>\n",
              "      <th>publisher</th>\n",
              "      <th>genres</th>\n",
              "      <th>app_name</th>\n",
              "      <th>title</th>\n",
              "      <th>url</th>\n",
              "      <th>release_date</th>\n",
              "      <th>tags</th>\n",
              "      <th>discount_price</th>\n",
              "      <th>reviews_url</th>\n",
              "      <th>specs</th>\n",
              "      <th>price</th>\n",
              "      <th>early_access</th>\n",
              "      <th>id</th>\n",
              "      <th>developer</th>\n",
              "      <th>sentiment</th>\n",
              "      <th>metascore</th>\n",
              "    </tr>\n",
              "  </thead>\n",
              "  <tbody>\n",
              "    <tr>\n",
              "      <th>0</th>\n",
              "      <td>Kotoshiro</td>\n",
              "      <td>['Action', 'Casual', 'Indie', 'Simulation', 'S...</td>\n",
              "      <td>Lost Summoner Kitty</td>\n",
              "      <td>Lost Summoner Kitty</td>\n",
              "      <td>http://store.steampowered.com/app/761140/Lost_...</td>\n",
              "      <td>2018-01-04</td>\n",
              "      <td>['Strategy', 'Action', 'Indie', 'Casual', 'Sim...</td>\n",
              "      <td>4.49</td>\n",
              "      <td>http://steamcommunity.com/app/761140/reviews/?...</td>\n",
              "      <td>['Single-player']</td>\n",
              "      <td>4.99</td>\n",
              "      <td>False</td>\n",
              "      <td>761140.0</td>\n",
              "      <td>Kotoshiro</td>\n",
              "      <td>NaN</td>\n",
              "      <td>NaN</td>\n",
              "    </tr>\n",
              "    <tr>\n",
              "      <th>1</th>\n",
              "      <td>Making Fun, Inc.</td>\n",
              "      <td>['Free to Play', 'Indie', 'RPG', 'Strategy']</td>\n",
              "      <td>Ironbound</td>\n",
              "      <td>Ironbound</td>\n",
              "      <td>http://store.steampowered.com/app/643980/Ironb...</td>\n",
              "      <td>2018-01-04</td>\n",
              "      <td>['Free to Play', 'Strategy', 'Indie', 'RPG', '...</td>\n",
              "      <td>NaN</td>\n",
              "      <td>http://steamcommunity.com/app/643980/reviews/?...</td>\n",
              "      <td>['Single-player', 'Multi-player', 'Online Mult...</td>\n",
              "      <td>Free To Play</td>\n",
              "      <td>False</td>\n",
              "      <td>643980.0</td>\n",
              "      <td>Secret Level SRL</td>\n",
              "      <td>Mostly Positive</td>\n",
              "      <td>NaN</td>\n",
              "    </tr>\n",
              "    <tr>\n",
              "      <th>2</th>\n",
              "      <td>Poolians.com</td>\n",
              "      <td>['Casual', 'Free to Play', 'Indie', 'Simulatio...</td>\n",
              "      <td>Real Pool 3D - Poolians</td>\n",
              "      <td>Real Pool 3D - Poolians</td>\n",
              "      <td>http://store.steampowered.com/app/670290/Real_...</td>\n",
              "      <td>2017-07-24</td>\n",
              "      <td>['Free to Play', 'Simulation', 'Sports', 'Casu...</td>\n",
              "      <td>NaN</td>\n",
              "      <td>http://steamcommunity.com/app/670290/reviews/?...</td>\n",
              "      <td>['Single-player', 'Multi-player', 'Online Mult...</td>\n",
              "      <td>Free to Play</td>\n",
              "      <td>False</td>\n",
              "      <td>670290.0</td>\n",
              "      <td>Poolians.com</td>\n",
              "      <td>Mostly Positive</td>\n",
              "      <td>NaN</td>\n",
              "    </tr>\n",
              "    <tr>\n",
              "      <th>3</th>\n",
              "      <td>彼岸领域</td>\n",
              "      <td>['Action', 'Adventure', 'Casual']</td>\n",
              "      <td>弹炸人2222</td>\n",
              "      <td>弹炸人2222</td>\n",
              "      <td>http://store.steampowered.com/app/767400/2222/</td>\n",
              "      <td>2017-12-07</td>\n",
              "      <td>['Action', 'Adventure', 'Casual']</td>\n",
              "      <td>0.83</td>\n",
              "      <td>http://steamcommunity.com/app/767400/reviews/?...</td>\n",
              "      <td>['Single-player']</td>\n",
              "      <td>0.99</td>\n",
              "      <td>False</td>\n",
              "      <td>767400.0</td>\n",
              "      <td>彼岸领域</td>\n",
              "      <td>NaN</td>\n",
              "      <td>NaN</td>\n",
              "    </tr>\n",
              "    <tr>\n",
              "      <th>4</th>\n",
              "      <td>NaN</td>\n",
              "      <td>NaN</td>\n",
              "      <td>Log Challenge</td>\n",
              "      <td>NaN</td>\n",
              "      <td>http://store.steampowered.com/app/773570/Log_C...</td>\n",
              "      <td>NaN</td>\n",
              "      <td>['Action', 'Indie', 'Casual', 'Sports']</td>\n",
              "      <td>1.79</td>\n",
              "      <td>http://steamcommunity.com/app/773570/reviews/?...</td>\n",
              "      <td>['Single-player', 'Full controller support', '...</td>\n",
              "      <td>2.99</td>\n",
              "      <td>False</td>\n",
              "      <td>773570.0</td>\n",
              "      <td>NaN</td>\n",
              "      <td>NaN</td>\n",
              "      <td>NaN</td>\n",
              "    </tr>\n",
              "  </tbody>\n",
              "</table>\n",
              "</div>\n",
              "      <button class=\"colab-df-convert\" onclick=\"convertToInteractive('df-37c3c0c2-0457-453d-a87f-f8014326036c')\"\n",
              "              title=\"Convert this dataframe to an interactive table.\"\n",
              "              style=\"display:none;\">\n",
              "        \n",
              "  <svg xmlns=\"http://www.w3.org/2000/svg\" height=\"24px\"viewBox=\"0 0 24 24\"\n",
              "       width=\"24px\">\n",
              "    <path d=\"M0 0h24v24H0V0z\" fill=\"none\"/>\n",
              "    <path d=\"M18.56 5.44l.94 2.06.94-2.06 2.06-.94-2.06-.94-.94-2.06-.94 2.06-2.06.94zm-11 1L8.5 8.5l.94-2.06 2.06-.94-2.06-.94L8.5 2.5l-.94 2.06-2.06.94zm10 10l.94 2.06.94-2.06 2.06-.94-2.06-.94-.94-2.06-.94 2.06-2.06.94z\"/><path d=\"M17.41 7.96l-1.37-1.37c-.4-.4-.92-.59-1.43-.59-.52 0-1.04.2-1.43.59L10.3 9.45l-7.72 7.72c-.78.78-.78 2.05 0 2.83L4 21.41c.39.39.9.59 1.41.59.51 0 1.02-.2 1.41-.59l7.78-7.78 2.81-2.81c.8-.78.8-2.07 0-2.86zM5.41 20L4 18.59l7.72-7.72 1.47 1.35L5.41 20z\"/>\n",
              "  </svg>\n",
              "      </button>\n",
              "      \n",
              "  <style>\n",
              "    .colab-df-container {\n",
              "      display:flex;\n",
              "      flex-wrap:wrap;\n",
              "      gap: 12px;\n",
              "    }\n",
              "\n",
              "    .colab-df-convert {\n",
              "      background-color: #E8F0FE;\n",
              "      border: none;\n",
              "      border-radius: 50%;\n",
              "      cursor: pointer;\n",
              "      display: none;\n",
              "      fill: #1967D2;\n",
              "      height: 32px;\n",
              "      padding: 0 0 0 0;\n",
              "      width: 32px;\n",
              "    }\n",
              "\n",
              "    .colab-df-convert:hover {\n",
              "      background-color: #E2EBFA;\n",
              "      box-shadow: 0px 1px 2px rgba(60, 64, 67, 0.3), 0px 1px 3px 1px rgba(60, 64, 67, 0.15);\n",
              "      fill: #174EA6;\n",
              "    }\n",
              "\n",
              "    [theme=dark] .colab-df-convert {\n",
              "      background-color: #3B4455;\n",
              "      fill: #D2E3FC;\n",
              "    }\n",
              "\n",
              "    [theme=dark] .colab-df-convert:hover {\n",
              "      background-color: #434B5C;\n",
              "      box-shadow: 0px 1px 3px 1px rgba(0, 0, 0, 0.15);\n",
              "      filter: drop-shadow(0px 1px 2px rgba(0, 0, 0, 0.3));\n",
              "      fill: #FFFFFF;\n",
              "    }\n",
              "  </style>\n",
              "\n",
              "      <script>\n",
              "        const buttonEl =\n",
              "          document.querySelector('#df-37c3c0c2-0457-453d-a87f-f8014326036c button.colab-df-convert');\n",
              "        buttonEl.style.display =\n",
              "          google.colab.kernel.accessAllowed ? 'block' : 'none';\n",
              "\n",
              "        async function convertToInteractive(key) {\n",
              "          const element = document.querySelector('#df-37c3c0c2-0457-453d-a87f-f8014326036c');\n",
              "          const dataTable =\n",
              "            await google.colab.kernel.invokeFunction('convertToInteractive',\n",
              "                                                     [key], {});\n",
              "          if (!dataTable) return;\n",
              "\n",
              "          const docLinkHtml = 'Like what you see? Visit the ' +\n",
              "            '<a target=\"_blank\" href=https://colab.research.google.com/notebooks/data_table.ipynb>data table notebook</a>'\n",
              "            + ' to learn more about interactive tables.';\n",
              "          element.innerHTML = '';\n",
              "          dataTable['output_type'] = 'display_data';\n",
              "          await google.colab.output.renderOutput(dataTable, element);\n",
              "          const docLink = document.createElement('div');\n",
              "          docLink.innerHTML = docLinkHtml;\n",
              "          element.appendChild(docLink);\n",
              "        }\n",
              "      </script>\n",
              "    </div>\n",
              "  </div>\n",
              "  "
            ]
          },
          "metadata": {},
          "execution_count": 6
        }
      ],
      "source": [
        "# Load games data\n",
        "gamesdata = pd.read_csv('/content/drive/MyDrive/data/csv/gamesdata.csv', index_col = 0)\n",
        "gamesdata.head()"
      ]
    },
    {
      "cell_type": "code",
      "source": [
        "gamesprice = gamesdata['price']"
      ],
      "metadata": {
        "id": "VwGQPY9Xglq_"
      },
      "execution_count": 7,
      "outputs": []
    },
    {
      "cell_type": "code",
      "source": [
        "gamesprice = gamesprice.replace(to_replace = 'Free To Play', value = 0)\n",
        "gamesprice = gamesprice.replace(to_replace = 'Free to Play', value = 0)\n",
        "gamesprice = gamesprice.replace(to_replace = 'Free', value = 0)\n",
        "gamesprice = gamesprice.replace(to_replace = 'Free Demo', value = 0)\n",
        "gamesprice = gamesprice.replace(to_replace = 'Play for Free!', value = 0)\n",
        "gamesprice = gamesprice.replace(to_replace = 'Install Now', value = 0)\n",
        "gamesprice = gamesprice.replace(to_replace = 'Play WARMACHINE: Tactics Demo', value = 0)\n",
        "gamesprice = gamesprice.replace(to_replace = 'Free Mod', value = 0)\n",
        "gamesprice = gamesprice.replace(to_replace = 'Install Theme', value = 0)\n",
        "gamesprice = gamesprice.replace(to_replace = 'Third-party', value = 0)\n",
        "gamesprice = gamesprice.replace(to_replace = 'Play Now', value = 0)\n",
        "gamesprice = gamesprice.replace(to_replace = 'Free HITMAN™ Holiday Pack', value = 0)\n",
        "gamesprice = gamesprice.replace(to_replace = 'Play the Demo', value = 0)\n",
        "gamesprice = gamesprice.replace(to_replace = 'Starting at $499.00', value = 0)\n",
        "gamesprice = gamesprice.replace(to_replace = 'Starting at $449.00', value = 0)\n",
        "gamesprice = gamesprice.replace(to_replace = 'Free to Try', value = 0)\n",
        "gamesprice = gamesprice.replace(to_replace = 'Free Movie', value = 0)\n",
        "gamesprice = gamesprice.replace(to_replace = 'Free to Use', value = 0)"
      ],
      "metadata": {
        "id": "rW7KwD7ggqCr"
      },
      "execution_count": 8,
      "outputs": []
    },
    {
      "cell_type": "code",
      "source": [
        "gamesprice = gamesprice.astype(float)"
      ],
      "metadata": {
        "id": "w5_tbXkth5Uo"
      },
      "execution_count": 9,
      "outputs": []
    },
    {
      "cell_type": "code",
      "source": [
        "gamesprice.describe()"
      ],
      "metadata": {
        "colab": {
          "base_uri": "https://localhost:8080/"
        },
        "id": "b93pAkg8guJT",
        "outputId": "5826930b-641f-4d98-f2ee-191249fb2095"
      },
      "execution_count": 10,
      "outputs": [
        {
          "output_type": "execute_result",
          "data": {
            "text/plain": [
              "count    30758.000000\n",
              "mean         8.866855\n",
              "std         15.903457\n",
              "min          0.000000\n",
              "25%          2.990000\n",
              "50%          4.990000\n",
              "75%          9.990000\n",
              "max        995.000000\n",
              "Name: price, dtype: float64"
            ]
          },
          "metadata": {},
          "execution_count": 10
        }
      ]
    },
    {
      "cell_type": "code",
      "source": [
        "belowcentile = gamesprice[gamesprice < gamesprice.quantile(0.99)]"
      ],
      "metadata": {
        "id": "-tYyhvjEjv50"
      },
      "execution_count": 11,
      "outputs": []
    },
    {
      "cell_type": "code",
      "source": [
        "belowcentile.describe()"
      ],
      "metadata": {
        "colab": {
          "base_uri": "https://localhost:8080/"
        },
        "id": "RxNhGossj-ff",
        "outputId": "792bb776-c831-4810-b5b6-3c5f0a150e07"
      },
      "execution_count": 12,
      "outputs": [
        {
          "output_type": "execute_result",
          "data": {
            "text/plain": [
              "count    30440.000000\n",
              "mean         7.879879\n",
              "std          8.100161\n",
              "min          0.000000\n",
              "25%          2.990000\n",
              "50%          4.990000\n",
              "75%          9.990000\n",
              "max         49.990000\n",
              "Name: price, dtype: float64"
            ]
          },
          "metadata": {},
          "execution_count": 12
        }
      ]
    },
    {
      "cell_type": "markdown",
      "metadata": {
        "id": "NSP9CPwz7Aas"
      },
      "source": [
        "## Additional Preprocessing"
      ]
    },
    {
      "cell_type": "markdown",
      "metadata": {
        "id": "skM2-IUq7Aas"
      },
      "source": [
        "### Create interaction matrix"
      ]
    },
    {
      "cell_type": "code",
      "execution_count": 13,
      "metadata": {
        "scrolled": true,
        "colab": {
          "base_uri": "https://localhost:8080/"
        },
        "id": "pjBcoBNF7Aat",
        "outputId": "3afea244-3c98-4726-bb6d-906461b42104"
      },
      "outputs": [
        {
          "output_type": "execute_result",
          "data": {
            "text/plain": [
              "(17543, 8556)"
            ]
          },
          "metadata": {},
          "execution_count": 13
        }
      ],
      "source": [
        "# Use create_interaction_matrix function\n",
        "interactions = create_interaction_matrix(df = recdata,\n",
        "                                         user_col = 'uid',\n",
        "                                         item_col = 'id',\n",
        "                                         rating_col = 'owned')\n",
        "interactions.shape"
      ]
    },
    {
      "cell_type": "code",
      "source": [
        "interactions.to_csv('interactions.csv')"
      ],
      "metadata": {
        "id": "1h2LIIHA9sAV"
      },
      "execution_count": 14,
      "outputs": []
    },
    {
      "cell_type": "code",
      "execution_count": 15,
      "metadata": {
        "colab": {
          "base_uri": "https://localhost:8080/",
          "height": 267
        },
        "id": "Wvdsjlsr7Aat",
        "outputId": "d1b49749-4290-453a-981d-ad63220f65f5"
      },
      "outputs": [
        {
          "output_type": "execute_result",
          "data": {
            "text/plain": [
              "id   10      20      30      40      50      60      70      80      130     \\\n",
              "uid                                                                           \n",
              "0       1.0     1.0     1.0     1.0     1.0     1.0     1.0     0.0     1.0   \n",
              "1       1.0     1.0     1.0     1.0     1.0     1.0     1.0     1.0     1.0   \n",
              "2       0.0     0.0     0.0     0.0     0.0     0.0     0.0     0.0     0.0   \n",
              "3       1.0     1.0     1.0     1.0     1.0     1.0     1.0     1.0     1.0   \n",
              "4       1.0     1.0     1.0     1.0     1.0     1.0     1.0     1.0     1.0   \n",
              "\n",
              "id   220     ...  526790  527340  527440  527510  527520  527810  527890  \\\n",
              "uid          ...                                                           \n",
              "0       1.0  ...     0.0     0.0     0.0     0.0     0.0     0.0     0.0   \n",
              "1       1.0  ...     0.0     0.0     0.0     0.0     0.0     0.0     0.0   \n",
              "2       1.0  ...     0.0     0.0     0.0     0.0     0.0     0.0     0.0   \n",
              "3       1.0  ...     0.0     0.0     0.0     0.0     0.0     0.0     0.0   \n",
              "4       1.0  ...     0.0     0.0     0.0     0.0     0.0     0.0     0.0   \n",
              "\n",
              "id   527900  528660  530720  \n",
              "uid                          \n",
              "0       0.0     0.0     0.0  \n",
              "1       0.0     0.0     0.0  \n",
              "2       0.0     0.0     0.0  \n",
              "3       0.0     0.0     0.0  \n",
              "4       0.0     0.0     0.0  \n",
              "\n",
              "[5 rows x 8556 columns]"
            ],
            "text/html": [
              "\n",
              "  <div id=\"df-e04d05be-26e1-474b-b33d-4b72bddb76c1\">\n",
              "    <div class=\"colab-df-container\">\n",
              "      <div>\n",
              "<style scoped>\n",
              "    .dataframe tbody tr th:only-of-type {\n",
              "        vertical-align: middle;\n",
              "    }\n",
              "\n",
              "    .dataframe tbody tr th {\n",
              "        vertical-align: top;\n",
              "    }\n",
              "\n",
              "    .dataframe thead th {\n",
              "        text-align: right;\n",
              "    }\n",
              "</style>\n",
              "<table border=\"1\" class=\"dataframe\">\n",
              "  <thead>\n",
              "    <tr style=\"text-align: right;\">\n",
              "      <th>id</th>\n",
              "      <th>10</th>\n",
              "      <th>20</th>\n",
              "      <th>30</th>\n",
              "      <th>40</th>\n",
              "      <th>50</th>\n",
              "      <th>60</th>\n",
              "      <th>70</th>\n",
              "      <th>80</th>\n",
              "      <th>130</th>\n",
              "      <th>220</th>\n",
              "      <th>...</th>\n",
              "      <th>526790</th>\n",
              "      <th>527340</th>\n",
              "      <th>527440</th>\n",
              "      <th>527510</th>\n",
              "      <th>527520</th>\n",
              "      <th>527810</th>\n",
              "      <th>527890</th>\n",
              "      <th>527900</th>\n",
              "      <th>528660</th>\n",
              "      <th>530720</th>\n",
              "    </tr>\n",
              "    <tr>\n",
              "      <th>uid</th>\n",
              "      <th></th>\n",
              "      <th></th>\n",
              "      <th></th>\n",
              "      <th></th>\n",
              "      <th></th>\n",
              "      <th></th>\n",
              "      <th></th>\n",
              "      <th></th>\n",
              "      <th></th>\n",
              "      <th></th>\n",
              "      <th></th>\n",
              "      <th></th>\n",
              "      <th></th>\n",
              "      <th></th>\n",
              "      <th></th>\n",
              "      <th></th>\n",
              "      <th></th>\n",
              "      <th></th>\n",
              "      <th></th>\n",
              "      <th></th>\n",
              "      <th></th>\n",
              "    </tr>\n",
              "  </thead>\n",
              "  <tbody>\n",
              "    <tr>\n",
              "      <th>0</th>\n",
              "      <td>1.0</td>\n",
              "      <td>1.0</td>\n",
              "      <td>1.0</td>\n",
              "      <td>1.0</td>\n",
              "      <td>1.0</td>\n",
              "      <td>1.0</td>\n",
              "      <td>1.0</td>\n",
              "      <td>0.0</td>\n",
              "      <td>1.0</td>\n",
              "      <td>1.0</td>\n",
              "      <td>...</td>\n",
              "      <td>0.0</td>\n",
              "      <td>0.0</td>\n",
              "      <td>0.0</td>\n",
              "      <td>0.0</td>\n",
              "      <td>0.0</td>\n",
              "      <td>0.0</td>\n",
              "      <td>0.0</td>\n",
              "      <td>0.0</td>\n",
              "      <td>0.0</td>\n",
              "      <td>0.0</td>\n",
              "    </tr>\n",
              "    <tr>\n",
              "      <th>1</th>\n",
              "      <td>1.0</td>\n",
              "      <td>1.0</td>\n",
              "      <td>1.0</td>\n",
              "      <td>1.0</td>\n",
              "      <td>1.0</td>\n",
              "      <td>1.0</td>\n",
              "      <td>1.0</td>\n",
              "      <td>1.0</td>\n",
              "      <td>1.0</td>\n",
              "      <td>1.0</td>\n",
              "      <td>...</td>\n",
              "      <td>0.0</td>\n",
              "      <td>0.0</td>\n",
              "      <td>0.0</td>\n",
              "      <td>0.0</td>\n",
              "      <td>0.0</td>\n",
              "      <td>0.0</td>\n",
              "      <td>0.0</td>\n",
              "      <td>0.0</td>\n",
              "      <td>0.0</td>\n",
              "      <td>0.0</td>\n",
              "    </tr>\n",
              "    <tr>\n",
              "      <th>2</th>\n",
              "      <td>0.0</td>\n",
              "      <td>0.0</td>\n",
              "      <td>0.0</td>\n",
              "      <td>0.0</td>\n",
              "      <td>0.0</td>\n",
              "      <td>0.0</td>\n",
              "      <td>0.0</td>\n",
              "      <td>0.0</td>\n",
              "      <td>0.0</td>\n",
              "      <td>1.0</td>\n",
              "      <td>...</td>\n",
              "      <td>0.0</td>\n",
              "      <td>0.0</td>\n",
              "      <td>0.0</td>\n",
              "      <td>0.0</td>\n",
              "      <td>0.0</td>\n",
              "      <td>0.0</td>\n",
              "      <td>0.0</td>\n",
              "      <td>0.0</td>\n",
              "      <td>0.0</td>\n",
              "      <td>0.0</td>\n",
              "    </tr>\n",
              "    <tr>\n",
              "      <th>3</th>\n",
              "      <td>1.0</td>\n",
              "      <td>1.0</td>\n",
              "      <td>1.0</td>\n",
              "      <td>1.0</td>\n",
              "      <td>1.0</td>\n",
              "      <td>1.0</td>\n",
              "      <td>1.0</td>\n",
              "      <td>1.0</td>\n",
              "      <td>1.0</td>\n",
              "      <td>1.0</td>\n",
              "      <td>...</td>\n",
              "      <td>0.0</td>\n",
              "      <td>0.0</td>\n",
              "      <td>0.0</td>\n",
              "      <td>0.0</td>\n",
              "      <td>0.0</td>\n",
              "      <td>0.0</td>\n",
              "      <td>0.0</td>\n",
              "      <td>0.0</td>\n",
              "      <td>0.0</td>\n",
              "      <td>0.0</td>\n",
              "    </tr>\n",
              "    <tr>\n",
              "      <th>4</th>\n",
              "      <td>1.0</td>\n",
              "      <td>1.0</td>\n",
              "      <td>1.0</td>\n",
              "      <td>1.0</td>\n",
              "      <td>1.0</td>\n",
              "      <td>1.0</td>\n",
              "      <td>1.0</td>\n",
              "      <td>1.0</td>\n",
              "      <td>1.0</td>\n",
              "      <td>1.0</td>\n",
              "      <td>...</td>\n",
              "      <td>0.0</td>\n",
              "      <td>0.0</td>\n",
              "      <td>0.0</td>\n",
              "      <td>0.0</td>\n",
              "      <td>0.0</td>\n",
              "      <td>0.0</td>\n",
              "      <td>0.0</td>\n",
              "      <td>0.0</td>\n",
              "      <td>0.0</td>\n",
              "      <td>0.0</td>\n",
              "    </tr>\n",
              "  </tbody>\n",
              "</table>\n",
              "<p>5 rows × 8556 columns</p>\n",
              "</div>\n",
              "      <button class=\"colab-df-convert\" onclick=\"convertToInteractive('df-e04d05be-26e1-474b-b33d-4b72bddb76c1')\"\n",
              "              title=\"Convert this dataframe to an interactive table.\"\n",
              "              style=\"display:none;\">\n",
              "        \n",
              "  <svg xmlns=\"http://www.w3.org/2000/svg\" height=\"24px\"viewBox=\"0 0 24 24\"\n",
              "       width=\"24px\">\n",
              "    <path d=\"M0 0h24v24H0V0z\" fill=\"none\"/>\n",
              "    <path d=\"M18.56 5.44l.94 2.06.94-2.06 2.06-.94-2.06-.94-.94-2.06-.94 2.06-2.06.94zm-11 1L8.5 8.5l.94-2.06 2.06-.94-2.06-.94L8.5 2.5l-.94 2.06-2.06.94zm10 10l.94 2.06.94-2.06 2.06-.94-2.06-.94-.94-2.06-.94 2.06-2.06.94z\"/><path d=\"M17.41 7.96l-1.37-1.37c-.4-.4-.92-.59-1.43-.59-.52 0-1.04.2-1.43.59L10.3 9.45l-7.72 7.72c-.78.78-.78 2.05 0 2.83L4 21.41c.39.39.9.59 1.41.59.51 0 1.02-.2 1.41-.59l7.78-7.78 2.81-2.81c.8-.78.8-2.07 0-2.86zM5.41 20L4 18.59l7.72-7.72 1.47 1.35L5.41 20z\"/>\n",
              "  </svg>\n",
              "      </button>\n",
              "      \n",
              "  <style>\n",
              "    .colab-df-container {\n",
              "      display:flex;\n",
              "      flex-wrap:wrap;\n",
              "      gap: 12px;\n",
              "    }\n",
              "\n",
              "    .colab-df-convert {\n",
              "      background-color: #E8F0FE;\n",
              "      border: none;\n",
              "      border-radius: 50%;\n",
              "      cursor: pointer;\n",
              "      display: none;\n",
              "      fill: #1967D2;\n",
              "      height: 32px;\n",
              "      padding: 0 0 0 0;\n",
              "      width: 32px;\n",
              "    }\n",
              "\n",
              "    .colab-df-convert:hover {\n",
              "      background-color: #E2EBFA;\n",
              "      box-shadow: 0px 1px 2px rgba(60, 64, 67, 0.3), 0px 1px 3px 1px rgba(60, 64, 67, 0.15);\n",
              "      fill: #174EA6;\n",
              "    }\n",
              "\n",
              "    [theme=dark] .colab-df-convert {\n",
              "      background-color: #3B4455;\n",
              "      fill: #D2E3FC;\n",
              "    }\n",
              "\n",
              "    [theme=dark] .colab-df-convert:hover {\n",
              "      background-color: #434B5C;\n",
              "      box-shadow: 0px 1px 3px 1px rgba(0, 0, 0, 0.15);\n",
              "      filter: drop-shadow(0px 1px 2px rgba(0, 0, 0, 0.3));\n",
              "      fill: #FFFFFF;\n",
              "    }\n",
              "  </style>\n",
              "\n",
              "      <script>\n",
              "        const buttonEl =\n",
              "          document.querySelector('#df-e04d05be-26e1-474b-b33d-4b72bddb76c1 button.colab-df-convert');\n",
              "        buttonEl.style.display =\n",
              "          google.colab.kernel.accessAllowed ? 'block' : 'none';\n",
              "\n",
              "        async function convertToInteractive(key) {\n",
              "          const element = document.querySelector('#df-e04d05be-26e1-474b-b33d-4b72bddb76c1');\n",
              "          const dataTable =\n",
              "            await google.colab.kernel.invokeFunction('convertToInteractive',\n",
              "                                                     [key], {});\n",
              "          if (!dataTable) return;\n",
              "\n",
              "          const docLinkHtml = 'Like what you see? Visit the ' +\n",
              "            '<a target=\"_blank\" href=https://colab.research.google.com/notebooks/data_table.ipynb>data table notebook</a>'\n",
              "            + ' to learn more about interactive tables.';\n",
              "          element.innerHTML = '';\n",
              "          dataTable['output_type'] = 'display_data';\n",
              "          await google.colab.output.renderOutput(dataTable, element);\n",
              "          const docLink = document.createElement('div');\n",
              "          docLink.innerHTML = docLinkHtml;\n",
              "          element.appendChild(docLink);\n",
              "        }\n",
              "      </script>\n",
              "    </div>\n",
              "  </div>\n",
              "  "
            ]
          },
          "metadata": {},
          "execution_count": 15
        }
      ],
      "source": [
        "# Preview head\n",
        "interactions.head()"
      ]
    },
    {
      "cell_type": "markdown",
      "metadata": {
        "id": "MwctSdz87Aau"
      },
      "source": [
        "### Train test split"
      ]
    },
    {
      "cell_type": "code",
      "execution_count": 16,
      "metadata": {
        "colab": {
          "base_uri": "https://localhost:8080/"
        },
        "id": "RLNyKnJB7Aau",
        "outputId": "9c43e3dd-e27f-4335-9c50-bea217d8290f"
      },
      "outputs": [
        {
          "output_type": "execute_result",
          "data": {
            "text/plain": [
              "17543"
            ]
          },
          "metadata": {},
          "execution_count": 16
        }
      ],
      "source": [
        "# Get number of users\n",
        "len(interactions)"
      ]
    },
    {
      "cell_type": "code",
      "execution_count": 17,
      "metadata": {
        "colab": {
          "base_uri": "https://localhost:8080/"
        },
        "id": "Odd-fSIl7Aav",
        "outputId": "8089fd3f-5c59-4fd6-8f92-2ca769182498"
      },
      "outputs": [
        {
          "output_type": "stream",
          "name": "stdout",
          "text": [
            "We desire 14034.0 users in our training set.\n",
            "We desire 3509.0 users in our test set.\n"
          ]
        }
      ],
      "source": [
        "# Establish number of users in train/test sets\n",
        "\n",
        "train_num = round((80/100)*len(interactions),0)\n",
        "print(f'We desire {train_num} users in our training set.')\n",
        "\n",
        "test_num = len(interactions)-train_num\n",
        "print(f'We desire {test_num} users in our test set.')"
      ]
    },
    {
      "cell_type": "code",
      "execution_count": 18,
      "metadata": {
        "id": "7cT7NMEL7Aav"
      },
      "outputs": [],
      "source": [
        "# Define train and test sets\n",
        "train = interactions[:14034]\n",
        "test = interactions[14034:]"
      ]
    },
    {
      "cell_type": "markdown",
      "metadata": {
        "id": "dTG2jDM_7Aav"
      },
      "source": [
        "### Create user dictionary"
      ]
    },
    {
      "cell_type": "code",
      "execution_count": 19,
      "metadata": {
        "id": "5I_-1JnT7Aaw"
      },
      "outputs": [],
      "source": [
        "# Create user dictionary using helper function\n",
        "user_dict = create_user_dict(interactions=interactions)"
      ]
    },
    {
      "cell_type": "code",
      "source": [
        "user_dict"
      ],
      "metadata": {
        "id": "Hv--npKDynMe",
        "outputId": "d42293b3-7943-4846-a835-22f791b67d96",
        "colab": {
          "base_uri": "https://localhost:8080/"
        }
      },
      "execution_count": 20,
      "outputs": [
        {
          "output_type": "execute_result",
          "data": {
            "text/plain": [
              "{0: 0,\n",
              " 1: 1,\n",
              " 2: 2,\n",
              " 3: 3,\n",
              " 4: 4,\n",
              " 5: 5,\n",
              " 6: 6,\n",
              " 7: 7,\n",
              " 8: 8,\n",
              " 10: 9,\n",
              " 12: 10,\n",
              " 13: 11,\n",
              " 14: 12,\n",
              " 15: 13,\n",
              " 16: 14,\n",
              " 17: 15,\n",
              " 18: 16,\n",
              " 19: 17,\n",
              " 20: 18,\n",
              " 21: 19,\n",
              " 22: 20,\n",
              " 23: 21,\n",
              " 24: 22,\n",
              " 25: 23,\n",
              " 26: 24,\n",
              " 27: 25,\n",
              " 28: 26,\n",
              " 29: 27,\n",
              " 30: 28,\n",
              " 32: 29,\n",
              " 33: 30,\n",
              " 34: 31,\n",
              " 35: 32,\n",
              " 36: 33,\n",
              " 37: 34,\n",
              " 39: 35,\n",
              " 40: 36,\n",
              " 41: 37,\n",
              " 42: 38,\n",
              " 43: 39,\n",
              " 44: 40,\n",
              " 45: 41,\n",
              " 46: 42,\n",
              " 47: 43,\n",
              " 48: 44,\n",
              " 49: 45,\n",
              " 50: 46,\n",
              " 51: 47,\n",
              " 52: 48,\n",
              " 53: 49,\n",
              " 55: 50,\n",
              " 56: 51,\n",
              " 57: 52,\n",
              " 58: 53,\n",
              " 59: 54,\n",
              " 60: 55,\n",
              " 61: 56,\n",
              " 62: 57,\n",
              " 63: 58,\n",
              " 64: 59,\n",
              " 65: 60,\n",
              " 66: 61,\n",
              " 67: 62,\n",
              " 68: 63,\n",
              " 70: 64,\n",
              " 72: 65,\n",
              " 73: 66,\n",
              " 74: 67,\n",
              " 75: 68,\n",
              " 76: 69,\n",
              " 77: 70,\n",
              " 78: 71,\n",
              " 79: 72,\n",
              " 80: 73,\n",
              " 81: 74,\n",
              " 82: 75,\n",
              " 83: 76,\n",
              " 84: 77,\n",
              " 85: 78,\n",
              " 86: 79,\n",
              " 88: 80,\n",
              " 89: 81,\n",
              " 90: 82,\n",
              " 91: 83,\n",
              " 92: 84,\n",
              " 93: 85,\n",
              " 94: 86,\n",
              " 95: 87,\n",
              " 96: 88,\n",
              " 97: 89,\n",
              " 98: 90,\n",
              " 99: 91,\n",
              " 100: 92,\n",
              " 103: 93,\n",
              " 104: 94,\n",
              " 105: 95,\n",
              " 106: 96,\n",
              " 107: 97,\n",
              " 108: 98,\n",
              " 109: 99,\n",
              " 110: 100,\n",
              " 111: 101,\n",
              " 112: 102,\n",
              " 113: 103,\n",
              " 114: 104,\n",
              " 115: 105,\n",
              " 116: 106,\n",
              " 117: 107,\n",
              " 118: 108,\n",
              " 119: 109,\n",
              " 120: 110,\n",
              " 121: 111,\n",
              " 122: 112,\n",
              " 123: 113,\n",
              " 124: 114,\n",
              " 125: 115,\n",
              " 126: 116,\n",
              " 127: 117,\n",
              " 129: 118,\n",
              " 131: 119,\n",
              " 132: 120,\n",
              " 133: 121,\n",
              " 134: 122,\n",
              " 135: 123,\n",
              " 136: 124,\n",
              " 137: 125,\n",
              " 138: 126,\n",
              " 139: 127,\n",
              " 140: 128,\n",
              " 141: 129,\n",
              " 142: 130,\n",
              " 143: 131,\n",
              " 144: 132,\n",
              " 145: 133,\n",
              " 146: 134,\n",
              " 147: 135,\n",
              " 148: 136,\n",
              " 149: 137,\n",
              " 150: 138,\n",
              " 151: 139,\n",
              " 152: 140,\n",
              " 153: 141,\n",
              " 154: 142,\n",
              " 155: 143,\n",
              " 156: 144,\n",
              " 157: 145,\n",
              " 158: 146,\n",
              " 160: 147,\n",
              " 161: 148,\n",
              " 162: 149,\n",
              " 163: 150,\n",
              " 164: 151,\n",
              " 165: 152,\n",
              " 166: 153,\n",
              " 167: 154,\n",
              " 168: 155,\n",
              " 169: 156,\n",
              " 170: 157,\n",
              " 172: 158,\n",
              " 173: 159,\n",
              " 174: 160,\n",
              " 175: 161,\n",
              " 176: 162,\n",
              " 177: 163,\n",
              " 178: 164,\n",
              " 179: 165,\n",
              " 180: 166,\n",
              " 181: 167,\n",
              " 182: 168,\n",
              " 183: 169,\n",
              " 184: 170,\n",
              " 185: 171,\n",
              " 186: 172,\n",
              " 187: 173,\n",
              " 189: 174,\n",
              " 190: 175,\n",
              " 191: 176,\n",
              " 192: 177,\n",
              " 193: 178,\n",
              " 195: 179,\n",
              " 196: 180,\n",
              " 198: 181,\n",
              " 200: 182,\n",
              " 201: 183,\n",
              " 202: 184,\n",
              " 204: 185,\n",
              " 205: 186,\n",
              " 206: 187,\n",
              " 207: 188,\n",
              " 209: 189,\n",
              " 210: 190,\n",
              " 211: 191,\n",
              " 212: 192,\n",
              " 213: 193,\n",
              " 214: 194,\n",
              " 215: 195,\n",
              " 216: 196,\n",
              " 217: 197,\n",
              " 218: 198,\n",
              " 219: 199,\n",
              " 220: 200,\n",
              " 221: 201,\n",
              " 222: 202,\n",
              " 223: 203,\n",
              " 224: 204,\n",
              " 225: 205,\n",
              " 226: 206,\n",
              " 227: 207,\n",
              " 228: 208,\n",
              " 229: 209,\n",
              " 230: 210,\n",
              " 231: 211,\n",
              " 232: 212,\n",
              " 233: 213,\n",
              " 234: 214,\n",
              " 235: 215,\n",
              " 236: 216,\n",
              " 237: 217,\n",
              " 238: 218,\n",
              " 239: 219,\n",
              " 240: 220,\n",
              " 241: 221,\n",
              " 242: 222,\n",
              " 243: 223,\n",
              " 245: 224,\n",
              " 247: 225,\n",
              " 249: 226,\n",
              " 250: 227,\n",
              " 251: 228,\n",
              " 252: 229,\n",
              " 253: 230,\n",
              " 254: 231,\n",
              " 255: 232,\n",
              " 256: 233,\n",
              " 257: 234,\n",
              " 258: 235,\n",
              " 260: 236,\n",
              " 261: 237,\n",
              " 262: 238,\n",
              " 263: 239,\n",
              " 264: 240,\n",
              " 265: 241,\n",
              " 266: 242,\n",
              " 267: 243,\n",
              " 268: 244,\n",
              " 269: 245,\n",
              " 270: 246,\n",
              " 272: 247,\n",
              " 273: 248,\n",
              " 274: 249,\n",
              " 275: 250,\n",
              " 276: 251,\n",
              " 277: 252,\n",
              " 278: 253,\n",
              " 279: 254,\n",
              " 280: 255,\n",
              " 281: 256,\n",
              " 282: 257,\n",
              " 283: 258,\n",
              " 284: 259,\n",
              " 285: 260,\n",
              " 286: 261,\n",
              " 288: 262,\n",
              " 289: 263,\n",
              " 290: 264,\n",
              " 291: 265,\n",
              " 292: 266,\n",
              " 293: 267,\n",
              " 294: 268,\n",
              " 297: 269,\n",
              " 299: 270,\n",
              " 300: 271,\n",
              " 301: 272,\n",
              " 302: 273,\n",
              " 304: 274,\n",
              " 305: 275,\n",
              " 306: 276,\n",
              " 307: 277,\n",
              " 308: 278,\n",
              " 309: 279,\n",
              " 310: 280,\n",
              " 311: 281,\n",
              " 312: 282,\n",
              " 313: 283,\n",
              " 314: 284,\n",
              " 315: 285,\n",
              " 316: 286,\n",
              " 317: 287,\n",
              " 318: 288,\n",
              " 319: 289,\n",
              " 320: 290,\n",
              " 321: 291,\n",
              " 322: 292,\n",
              " 323: 293,\n",
              " 324: 294,\n",
              " 325: 295,\n",
              " 326: 296,\n",
              " 327: 297,\n",
              " 328: 298,\n",
              " 329: 299,\n",
              " 330: 300,\n",
              " 331: 301,\n",
              " 332: 302,\n",
              " 333: 303,\n",
              " 334: 304,\n",
              " 335: 305,\n",
              " 336: 306,\n",
              " 337: 307,\n",
              " 338: 308,\n",
              " 339: 309,\n",
              " 341: 310,\n",
              " 342: 311,\n",
              " 343: 312,\n",
              " 344: 313,\n",
              " 345: 314,\n",
              " 346: 315,\n",
              " 347: 316,\n",
              " 348: 317,\n",
              " 349: 318,\n",
              " 350: 319,\n",
              " 351: 320,\n",
              " 352: 321,\n",
              " 353: 322,\n",
              " 354: 323,\n",
              " 355: 324,\n",
              " 357: 325,\n",
              " 358: 326,\n",
              " 359: 327,\n",
              " 360: 328,\n",
              " 361: 329,\n",
              " 362: 330,\n",
              " 363: 331,\n",
              " 366: 332,\n",
              " 367: 333,\n",
              " 368: 334,\n",
              " 369: 335,\n",
              " 370: 336,\n",
              " 371: 337,\n",
              " 372: 338,\n",
              " 373: 339,\n",
              " 374: 340,\n",
              " 375: 341,\n",
              " 376: 342,\n",
              " 377: 343,\n",
              " 378: 344,\n",
              " 380: 345,\n",
              " 382: 346,\n",
              " 383: 347,\n",
              " 384: 348,\n",
              " 385: 349,\n",
              " 386: 350,\n",
              " 387: 351,\n",
              " 388: 352,\n",
              " 391: 353,\n",
              " 392: 354,\n",
              " 393: 355,\n",
              " 395: 356,\n",
              " 396: 357,\n",
              " 397: 358,\n",
              " 398: 359,\n",
              " 399: 360,\n",
              " 400: 361,\n",
              " 401: 362,\n",
              " 402: 363,\n",
              " 403: 364,\n",
              " 405: 365,\n",
              " 407: 366,\n",
              " 408: 367,\n",
              " 409: 368,\n",
              " 410: 369,\n",
              " 411: 370,\n",
              " 412: 371,\n",
              " 413: 372,\n",
              " 414: 373,\n",
              " 416: 374,\n",
              " 417: 375,\n",
              " 418: 376,\n",
              " 419: 377,\n",
              " 420: 378,\n",
              " 421: 379,\n",
              " 422: 380,\n",
              " 423: 381,\n",
              " 426: 382,\n",
              " 427: 383,\n",
              " 428: 384,\n",
              " 429: 385,\n",
              " 430: 386,\n",
              " 431: 387,\n",
              " 433: 388,\n",
              " 435: 389,\n",
              " 436: 390,\n",
              " 437: 391,\n",
              " 439: 392,\n",
              " 440: 393,\n",
              " 441: 394,\n",
              " 442: 395,\n",
              " 443: 396,\n",
              " 444: 397,\n",
              " 445: 398,\n",
              " 447: 399,\n",
              " 448: 400,\n",
              " 449: 401,\n",
              " 450: 402,\n",
              " 451: 403,\n",
              " 452: 404,\n",
              " 453: 405,\n",
              " 454: 406,\n",
              " 455: 407,\n",
              " 457: 408,\n",
              " 458: 409,\n",
              " 459: 410,\n",
              " 460: 411,\n",
              " 461: 412,\n",
              " 462: 413,\n",
              " 463: 414,\n",
              " 464: 415,\n",
              " 465: 416,\n",
              " 466: 417,\n",
              " 467: 418,\n",
              " 468: 419,\n",
              " 470: 420,\n",
              " 471: 421,\n",
              " 473: 422,\n",
              " 474: 423,\n",
              " 475: 424,\n",
              " 476: 425,\n",
              " 477: 426,\n",
              " 478: 427,\n",
              " 479: 428,\n",
              " 480: 429,\n",
              " 481: 430,\n",
              " 483: 431,\n",
              " 485: 432,\n",
              " 487: 433,\n",
              " 489: 434,\n",
              " 490: 435,\n",
              " 491: 436,\n",
              " 493: 437,\n",
              " 495: 438,\n",
              " 497: 439,\n",
              " 498: 440,\n",
              " 499: 441,\n",
              " 500: 442,\n",
              " 501: 443,\n",
              " 504: 444,\n",
              " 505: 445,\n",
              " 507: 446,\n",
              " 508: 447,\n",
              " 510: 448,\n",
              " 511: 449,\n",
              " 512: 450,\n",
              " 514: 451,\n",
              " 515: 452,\n",
              " 516: 453,\n",
              " 517: 454,\n",
              " 519: 455,\n",
              " 520: 456,\n",
              " 521: 457,\n",
              " 522: 458,\n",
              " 523: 459,\n",
              " 524: 460,\n",
              " 525: 461,\n",
              " 526: 462,\n",
              " 527: 463,\n",
              " 529: 464,\n",
              " 530: 465,\n",
              " 531: 466,\n",
              " 533: 467,\n",
              " 534: 468,\n",
              " 535: 469,\n",
              " 537: 470,\n",
              " 538: 471,\n",
              " 539: 472,\n",
              " 541: 473,\n",
              " 543: 474,\n",
              " 544: 475,\n",
              " 545: 476,\n",
              " 546: 477,\n",
              " 547: 478,\n",
              " 548: 479,\n",
              " 549: 480,\n",
              " 550: 481,\n",
              " 551: 482,\n",
              " 552: 483,\n",
              " 553: 484,\n",
              " 554: 485,\n",
              " 556: 486,\n",
              " 557: 487,\n",
              " 558: 488,\n",
              " 559: 489,\n",
              " 560: 490,\n",
              " 561: 491,\n",
              " 562: 492,\n",
              " 563: 493,\n",
              " 564: 494,\n",
              " 565: 495,\n",
              " 566: 496,\n",
              " 567: 497,\n",
              " 568: 498,\n",
              " 569: 499,\n",
              " 570: 500,\n",
              " 571: 501,\n",
              " 572: 502,\n",
              " 574: 503,\n",
              " 575: 504,\n",
              " 576: 505,\n",
              " 577: 506,\n",
              " 578: 507,\n",
              " 579: 508,\n",
              " 580: 509,\n",
              " 581: 510,\n",
              " 582: 511,\n",
              " 583: 512,\n",
              " 584: 513,\n",
              " 585: 514,\n",
              " 586: 515,\n",
              " 587: 516,\n",
              " 588: 517,\n",
              " 589: 518,\n",
              " 590: 519,\n",
              " 592: 520,\n",
              " 593: 521,\n",
              " 594: 522,\n",
              " 595: 523,\n",
              " 596: 524,\n",
              " 597: 525,\n",
              " 599: 526,\n",
              " 600: 527,\n",
              " 601: 528,\n",
              " 602: 529,\n",
              " 603: 530,\n",
              " 604: 531,\n",
              " 605: 532,\n",
              " 607: 533,\n",
              " 609: 534,\n",
              " 610: 535,\n",
              " 611: 536,\n",
              " 612: 537,\n",
              " 613: 538,\n",
              " 614: 539,\n",
              " 615: 540,\n",
              " 617: 541,\n",
              " 618: 542,\n",
              " 619: 543,\n",
              " 620: 544,\n",
              " 621: 545,\n",
              " 622: 546,\n",
              " 623: 547,\n",
              " 625: 548,\n",
              " 626: 549,\n",
              " 627: 550,\n",
              " 628: 551,\n",
              " 629: 552,\n",
              " 630: 553,\n",
              " 631: 554,\n",
              " 632: 555,\n",
              " 633: 556,\n",
              " 634: 557,\n",
              " 636: 558,\n",
              " 637: 559,\n",
              " 638: 560,\n",
              " 639: 561,\n",
              " 640: 562,\n",
              " 641: 563,\n",
              " 642: 564,\n",
              " 643: 565,\n",
              " 644: 566,\n",
              " 645: 567,\n",
              " 646: 568,\n",
              " 647: 569,\n",
              " 649: 570,\n",
              " 650: 571,\n",
              " 651: 572,\n",
              " 654: 573,\n",
              " 655: 574,\n",
              " 656: 575,\n",
              " 657: 576,\n",
              " 658: 577,\n",
              " 659: 578,\n",
              " 660: 579,\n",
              " 661: 580,\n",
              " 662: 581,\n",
              " 664: 582,\n",
              " 665: 583,\n",
              " 666: 584,\n",
              " 667: 585,\n",
              " 668: 586,\n",
              " 669: 587,\n",
              " 670: 588,\n",
              " 671: 589,\n",
              " 672: 590,\n",
              " 673: 591,\n",
              " 674: 592,\n",
              " 675: 593,\n",
              " 676: 594,\n",
              " 677: 595,\n",
              " 678: 596,\n",
              " 679: 597,\n",
              " 680: 598,\n",
              " 682: 599,\n",
              " 683: 600,\n",
              " 685: 601,\n",
              " 686: 602,\n",
              " 687: 603,\n",
              " 688: 604,\n",
              " 690: 605,\n",
              " 692: 606,\n",
              " 693: 607,\n",
              " 694: 608,\n",
              " 695: 609,\n",
              " 696: 610,\n",
              " 697: 611,\n",
              " 698: 612,\n",
              " 699: 613,\n",
              " 701: 614,\n",
              " 702: 615,\n",
              " 703: 616,\n",
              " 704: 617,\n",
              " 705: 618,\n",
              " 706: 619,\n",
              " 707: 620,\n",
              " 709: 621,\n",
              " 710: 622,\n",
              " 712: 623,\n",
              " 713: 624,\n",
              " 714: 625,\n",
              " 715: 626,\n",
              " 718: 627,\n",
              " 719: 628,\n",
              " 721: 629,\n",
              " 722: 630,\n",
              " 723: 631,\n",
              " 725: 632,\n",
              " 726: 633,\n",
              " 727: 634,\n",
              " 728: 635,\n",
              " 729: 636,\n",
              " 730: 637,\n",
              " 733: 638,\n",
              " 734: 639,\n",
              " 735: 640,\n",
              " 737: 641,\n",
              " 738: 642,\n",
              " 739: 643,\n",
              " 741: 644,\n",
              " 742: 645,\n",
              " 743: 646,\n",
              " 744: 647,\n",
              " 745: 648,\n",
              " 747: 649,\n",
              " 748: 650,\n",
              " 749: 651,\n",
              " 752: 652,\n",
              " 753: 653,\n",
              " 755: 654,\n",
              " 756: 655,\n",
              " 757: 656,\n",
              " 758: 657,\n",
              " 759: 658,\n",
              " 761: 659,\n",
              " 762: 660,\n",
              " 763: 661,\n",
              " 764: 662,\n",
              " 765: 663,\n",
              " 767: 664,\n",
              " 768: 665,\n",
              " 769: 666,\n",
              " 770: 667,\n",
              " 771: 668,\n",
              " 772: 669,\n",
              " 773: 670,\n",
              " 774: 671,\n",
              " 775: 672,\n",
              " 776: 673,\n",
              " 777: 674,\n",
              " 778: 675,\n",
              " 779: 676,\n",
              " 780: 677,\n",
              " 781: 678,\n",
              " 782: 679,\n",
              " 784: 680,\n",
              " 785: 681,\n",
              " 786: 682,\n",
              " 787: 683,\n",
              " 788: 684,\n",
              " 789: 685,\n",
              " 791: 686,\n",
              " 792: 687,\n",
              " 793: 688,\n",
              " 794: 689,\n",
              " 795: 690,\n",
              " 796: 691,\n",
              " 798: 692,\n",
              " 800: 693,\n",
              " 802: 694,\n",
              " 803: 695,\n",
              " 805: 696,\n",
              " 806: 697,\n",
              " 807: 698,\n",
              " 808: 699,\n",
              " 809: 700,\n",
              " 810: 701,\n",
              " 811: 702,\n",
              " 813: 703,\n",
              " 815: 704,\n",
              " 816: 705,\n",
              " 817: 706,\n",
              " 818: 707,\n",
              " 819: 708,\n",
              " 822: 709,\n",
              " 823: 710,\n",
              " 824: 711,\n",
              " 825: 712,\n",
              " 826: 713,\n",
              " 827: 714,\n",
              " 828: 715,\n",
              " 829: 716,\n",
              " 830: 717,\n",
              " 831: 718,\n",
              " 832: 719,\n",
              " 833: 720,\n",
              " 835: 721,\n",
              " 836: 722,\n",
              " 840: 723,\n",
              " 841: 724,\n",
              " 842: 725,\n",
              " 843: 726,\n",
              " 845: 727,\n",
              " 846: 728,\n",
              " 847: 729,\n",
              " 848: 730,\n",
              " 849: 731,\n",
              " 852: 732,\n",
              " 853: 733,\n",
              " 854: 734,\n",
              " 855: 735,\n",
              " 856: 736,\n",
              " 857: 737,\n",
              " 858: 738,\n",
              " 859: 739,\n",
              " 860: 740,\n",
              " 861: 741,\n",
              " 862: 742,\n",
              " 863: 743,\n",
              " 866: 744,\n",
              " 867: 745,\n",
              " 868: 746,\n",
              " 869: 747,\n",
              " 870: 748,\n",
              " 871: 749,\n",
              " 872: 750,\n",
              " 873: 751,\n",
              " 874: 752,\n",
              " 875: 753,\n",
              " 876: 754,\n",
              " 877: 755,\n",
              " 878: 756,\n",
              " 879: 757,\n",
              " 881: 758,\n",
              " 882: 759,\n",
              " 883: 760,\n",
              " 884: 761,\n",
              " 885: 762,\n",
              " 886: 763,\n",
              " 887: 764,\n",
              " 888: 765,\n",
              " 889: 766,\n",
              " 890: 767,\n",
              " 891: 768,\n",
              " 892: 769,\n",
              " 893: 770,\n",
              " 894: 771,\n",
              " 895: 772,\n",
              " 896: 773,\n",
              " 897: 774,\n",
              " 898: 775,\n",
              " 899: 776,\n",
              " 900: 777,\n",
              " 901: 778,\n",
              " 902: 779,\n",
              " 903: 780,\n",
              " 904: 781,\n",
              " 905: 782,\n",
              " 906: 783,\n",
              " 907: 784,\n",
              " 909: 785,\n",
              " 910: 786,\n",
              " 911: 787,\n",
              " 912: 788,\n",
              " 913: 789,\n",
              " 914: 790,\n",
              " 915: 791,\n",
              " 916: 792,\n",
              " 917: 793,\n",
              " 918: 794,\n",
              " 919: 795,\n",
              " 920: 796,\n",
              " 921: 797,\n",
              " 922: 798,\n",
              " 924: 799,\n",
              " 925: 800,\n",
              " 928: 801,\n",
              " 929: 802,\n",
              " 930: 803,\n",
              " 931: 804,\n",
              " 932: 805,\n",
              " 933: 806,\n",
              " 935: 807,\n",
              " 936: 808,\n",
              " 937: 809,\n",
              " 938: 810,\n",
              " 939: 811,\n",
              " 940: 812,\n",
              " 941: 813,\n",
              " 943: 814,\n",
              " 944: 815,\n",
              " 945: 816,\n",
              " 946: 817,\n",
              " 947: 818,\n",
              " 948: 819,\n",
              " 949: 820,\n",
              " 950: 821,\n",
              " 951: 822,\n",
              " 952: 823,\n",
              " 954: 824,\n",
              " 955: 825,\n",
              " 956: 826,\n",
              " 958: 827,\n",
              " 959: 828,\n",
              " 960: 829,\n",
              " 961: 830,\n",
              " 962: 831,\n",
              " 963: 832,\n",
              " 964: 833,\n",
              " 966: 834,\n",
              " 967: 835,\n",
              " 969: 836,\n",
              " 971: 837,\n",
              " 972: 838,\n",
              " 974: 839,\n",
              " 975: 840,\n",
              " 976: 841,\n",
              " 977: 842,\n",
              " 978: 843,\n",
              " 980: 844,\n",
              " 981: 845,\n",
              " 982: 846,\n",
              " 983: 847,\n",
              " 984: 848,\n",
              " 985: 849,\n",
              " 986: 850,\n",
              " 987: 851,\n",
              " 988: 852,\n",
              " 989: 853,\n",
              " 990: 854,\n",
              " 992: 855,\n",
              " 993: 856,\n",
              " 994: 857,\n",
              " 995: 858,\n",
              " 996: 859,\n",
              " 997: 860,\n",
              " 998: 861,\n",
              " 999: 862,\n",
              " 1000: 863,\n",
              " 1001: 864,\n",
              " 1002: 865,\n",
              " 1003: 866,\n",
              " 1004: 867,\n",
              " 1009: 868,\n",
              " 1010: 869,\n",
              " 1011: 870,\n",
              " 1012: 871,\n",
              " 1013: 872,\n",
              " 1014: 873,\n",
              " 1015: 874,\n",
              " 1016: 875,\n",
              " 1017: 876,\n",
              " 1018: 877,\n",
              " 1019: 878,\n",
              " 1020: 879,\n",
              " 1021: 880,\n",
              " 1023: 881,\n",
              " 1024: 882,\n",
              " 1026: 883,\n",
              " 1027: 884,\n",
              " 1028: 885,\n",
              " 1029: 886,\n",
              " 1030: 887,\n",
              " 1031: 888,\n",
              " 1032: 889,\n",
              " 1033: 890,\n",
              " 1034: 891,\n",
              " 1035: 892,\n",
              " 1036: 893,\n",
              " 1037: 894,\n",
              " 1038: 895,\n",
              " 1039: 896,\n",
              " 1040: 897,\n",
              " 1041: 898,\n",
              " 1043: 899,\n",
              " 1044: 900,\n",
              " 1045: 901,\n",
              " 1046: 902,\n",
              " 1047: 903,\n",
              " 1048: 904,\n",
              " 1049: 905,\n",
              " 1050: 906,\n",
              " 1051: 907,\n",
              " 1052: 908,\n",
              " 1053: 909,\n",
              " 1055: 910,\n",
              " 1056: 911,\n",
              " 1057: 912,\n",
              " 1058: 913,\n",
              " 1059: 914,\n",
              " 1060: 915,\n",
              " 1062: 916,\n",
              " 1063: 917,\n",
              " 1064: 918,\n",
              " 1065: 919,\n",
              " 1066: 920,\n",
              " 1067: 921,\n",
              " 1068: 922,\n",
              " 1069: 923,\n",
              " 1070: 924,\n",
              " 1071: 925,\n",
              " 1072: 926,\n",
              " 1073: 927,\n",
              " 1074: 928,\n",
              " 1075: 929,\n",
              " 1076: 930,\n",
              " 1078: 931,\n",
              " 1079: 932,\n",
              " 1080: 933,\n",
              " 1081: 934,\n",
              " 1082: 935,\n",
              " 1085: 936,\n",
              " 1086: 937,\n",
              " 1087: 938,\n",
              " 1088: 939,\n",
              " 1089: 940,\n",
              " 1090: 941,\n",
              " 1091: 942,\n",
              " 1092: 943,\n",
              " 1094: 944,\n",
              " 1095: 945,\n",
              " 1096: 946,\n",
              " 1097: 947,\n",
              " 1098: 948,\n",
              " 1099: 949,\n",
              " 1100: 950,\n",
              " 1101: 951,\n",
              " 1102: 952,\n",
              " 1103: 953,\n",
              " 1104: 954,\n",
              " 1105: 955,\n",
              " 1106: 956,\n",
              " 1107: 957,\n",
              " 1108: 958,\n",
              " 1109: 959,\n",
              " 1110: 960,\n",
              " 1111: 961,\n",
              " 1112: 962,\n",
              " 1114: 963,\n",
              " 1115: 964,\n",
              " 1116: 965,\n",
              " 1117: 966,\n",
              " 1118: 967,\n",
              " 1119: 968,\n",
              " 1120: 969,\n",
              " 1121: 970,\n",
              " 1122: 971,\n",
              " 1123: 972,\n",
              " 1124: 973,\n",
              " 1125: 974,\n",
              " 1127: 975,\n",
              " 1128: 976,\n",
              " 1129: 977,\n",
              " 1130: 978,\n",
              " 1131: 979,\n",
              " 1132: 980,\n",
              " 1133: 981,\n",
              " 1134: 982,\n",
              " 1136: 983,\n",
              " 1137: 984,\n",
              " 1138: 985,\n",
              " 1139: 986,\n",
              " 1140: 987,\n",
              " 1146: 988,\n",
              " 1147: 989,\n",
              " 1148: 990,\n",
              " 1149: 991,\n",
              " 1150: 992,\n",
              " 1151: 993,\n",
              " 1152: 994,\n",
              " 1153: 995,\n",
              " 1154: 996,\n",
              " 1155: 997,\n",
              " 1156: 998,\n",
              " 1157: 999,\n",
              " ...}"
            ]
          },
          "metadata": {},
          "execution_count": 20
        }
      ]
    },
    {
      "cell_type": "markdown",
      "metadata": {
        "id": "L_kYvr827Aaw"
      },
      "source": [
        "### Create item dictionary"
      ]
    },
    {
      "cell_type": "code",
      "execution_count": 21,
      "metadata": {
        "id": "wMoUC9Kt7Aaw"
      },
      "outputs": [],
      "source": [
        "# Create game dictionary using helper function\n",
        "games_dict = create_item_dict(df = gamesdata, id_col = 'id', name_col = 'title')"
      ]
    },
    {
      "cell_type": "markdown",
      "metadata": {
        "id": "Nb8omVcY7Aaw"
      },
      "source": [
        "### Create sparse matrices"
      ]
    },
    {
      "cell_type": "code",
      "execution_count": 22,
      "metadata": {
        "id": "uwu-fXHF7Aax"
      },
      "outputs": [],
      "source": [
        "# Create sparse matrices for evaluation \n",
        "train_sparse = sparse.csr_matrix(train.values)\n",
        "\n",
        "#Add X users to Test so that the number of rows in Train match Test\n",
        "N = train.shape[0] #Rows in Train set\n",
        "n,m = test.shape #Rows & columns in Test set\n",
        "z = np.zeros([(N-n),m]) #Create the necessary rows of zeros with m columns\n",
        "#test = test.toarray() #Temporarily convert Test into a numpy array\n",
        "test = np.vstack((test,z)) #Vertically stack Test on top of the blank users\n",
        "test_sparse = sparse.csr_matrix(test) #Convert back to sparse"
      ]
    },
    {
      "cell_type": "markdown",
      "metadata": {
        "id": "Ftne0lEa7Aax"
      },
      "source": [
        "## Modelling using LightFM"
      ]
    },
    {
      "cell_type": "markdown",
      "metadata": {
        "id": "PEmUsCS07Aax"
      },
      "source": [
        "### WARP loss model"
      ]
    },
    {
      "cell_type": "code",
      "execution_count": 23,
      "metadata": {
        "id": "0CJL9EVp7Aax"
      },
      "outputs": [],
      "source": [
        "# Instantiate and fit model\n",
        "mf_model_warp = run_model(interactions = train,\n",
        "                 n_components = 30,\n",
        "                 loss = 'warp',\n",
        "                 epoch = 30,\n",
        "                 n_jobs = 4)"
      ]
    },
    {
      "cell_type": "code",
      "execution_count": 24,
      "metadata": {
        "scrolled": true,
        "colab": {
          "base_uri": "https://localhost:8080/"
        },
        "id": "i17JHDh47Aay",
        "outputId": "d94b7b42-923f-4666-f13a-a63dc1effed6"
      },
      "outputs": [
        {
          "output_type": "stream",
          "name": "stdout",
          "text": [
            "Precision: train 0.73, test 0.43.\n"
          ]
        }
      ],
      "source": [
        "# Get precision\n",
        "train_precision = precision_at_k(mf_model_warp, train_sparse, k=10).mean()\n",
        "test_precision = precision_at_k(mf_model_warp, test_sparse, k=10).mean()\n",
        "print('Precision: train %.2f, test %.2f.' % (train_precision, test_precision))"
      ]
    },
    {
      "cell_type": "code",
      "execution_count": 25,
      "metadata": {
        "colab": {
          "base_uri": "https://localhost:8080/"
        },
        "id": "6QHcvFHE7Aay",
        "outputId": "9319f6da-30dd-40c0-8ef6-8eeb19d910d1"
      },
      "outputs": [
        {
          "output_type": "stream",
          "name": "stdout",
          "text": [
            "AUC: train 0.98, test 0.92.\n"
          ]
        }
      ],
      "source": [
        "# Get AUC\n",
        "train_auc = auc_score(mf_model_warp, train_sparse).mean()\n",
        "test_auc = auc_score(mf_model_warp, test_sparse).mean()\n",
        "print('AUC: train %.2f, test %.2f.' % (train_auc, test_auc))"
      ]
    },
    {
      "cell_type": "markdown",
      "metadata": {
        "id": "2xnXpqg67Aay"
      },
      "source": [
        "### BPR loss model"
      ]
    },
    {
      "cell_type": "code",
      "execution_count": 26,
      "metadata": {
        "id": "mo72kKaV7Aaz"
      },
      "outputs": [],
      "source": [
        "# Instantiate and fit model\n",
        "mf_model_bpr = run_model(interactions = train,\n",
        "                 n_components = 30,\n",
        "                 loss = 'bpr',\n",
        "                 epoch = 30,\n",
        "                 n_jobs = 4)"
      ]
    },
    {
      "cell_type": "code",
      "execution_count": 27,
      "metadata": {
        "colab": {
          "base_uri": "https://localhost:8080/"
        },
        "id": "eF1b1e2G7Aaz",
        "outputId": "79a8118c-499c-4a5e-ddf1-c29856feadce"
      },
      "outputs": [
        {
          "output_type": "stream",
          "name": "stdout",
          "text": [
            "Precision: train 0.81, test 0.34.\n"
          ]
        }
      ],
      "source": [
        "# Get precision\n",
        "train_precision = precision_at_k(mf_model_bpr, train_sparse, k=10).mean()\n",
        "test_precision = precision_at_k(mf_model_bpr, test_sparse, k=10).mean()\n",
        "print('Precision: train %.2f, test %.2f.' % (train_precision, test_precision))"
      ]
    },
    {
      "cell_type": "code",
      "execution_count": 28,
      "metadata": {
        "colab": {
          "base_uri": "https://localhost:8080/"
        },
        "id": "7lwrx-PI7Aaz",
        "outputId": "7d755cb7-df1f-4cee-89b0-e91915d14ea1"
      },
      "outputs": [
        {
          "output_type": "stream",
          "name": "stdout",
          "text": [
            "AUC: train 0.96, test 0.70.\n"
          ]
        }
      ],
      "source": [
        "# Get AUC\n",
        "train_auc = auc_score(mf_model_bpr, train_sparse).mean()\n",
        "test_auc = auc_score(mf_model_bpr, test_sparse).mean()\n",
        "print('AUC: train %.2f, test %.2f.' % (train_auc, test_auc))"
      ]
    },
    {
      "cell_type": "markdown",
      "metadata": {
        "id": "3bcqQWEH7Aa0"
      },
      "source": [
        "### Adjust num of components"
      ]
    },
    {
      "cell_type": "markdown",
      "metadata": {
        "id": "Kyj2d2y97Aa0"
      },
      "source": [
        "The `n_components` parameter controlls the number of embeddings (dimension of the features in the latent space.)\n",
        "\n",
        "We will vary this number, lowering it to `10` first and then increasing it to `50` to see how this affects model performance."
      ]
    },
    {
      "cell_type": "code",
      "execution_count": null,
      "metadata": {
        "id": "5xewliTv7Aa0"
      },
      "outputs": [],
      "source": [
        "# Instantiate and fit model\n",
        "mf_model_warp_2 = run_model(interactions = train,\n",
        "                 n_components = 10,\n",
        "                 loss = 'warp',\n",
        "                 epoch = 30,\n",
        "                 n_jobs = 4)"
      ]
    },
    {
      "cell_type": "code",
      "execution_count": null,
      "metadata": {
        "id": "gyW9YHM87Aa0"
      },
      "outputs": [],
      "source": [
        "# Get precision\n",
        "train_precision = precision_at_k(mf_model_warp_2, train_sparse, k=10).mean()\n",
        "test_precision = precision_at_k(mf_model_warp_2, test_sparse, k=10).mean()\n",
        "print('Precision: train %.2f, test %.2f.' % (train_precision, test_precision))"
      ]
    },
    {
      "cell_type": "code",
      "execution_count": null,
      "metadata": {
        "id": "fPyw9c197Aa0"
      },
      "outputs": [],
      "source": [
        "# Get AUC\n",
        "train_auc = auc_score(mf_model_warp_2, train_sparse).mean()\n",
        "test_auc = auc_score(mf_model_warp_2, test_sparse).mean()\n",
        "print('AUC: train %.2f, test %.2f.' % (train_auc, test_auc))"
      ]
    },
    {
      "cell_type": "code",
      "execution_count": null,
      "metadata": {
        "id": "5wnIsIl-7Aa1"
      },
      "outputs": [],
      "source": [
        "# Instantiate and fit model\n",
        "mf_model_warp_50 = run_model(interactions = train,\n",
        "                 n_components = 50,\n",
        "                 loss = 'warp',\n",
        "                 epoch = 30,\n",
        "                 n_jobs = 4)"
      ]
    },
    {
      "cell_type": "code",
      "execution_count": null,
      "metadata": {
        "id": "ROJJSdPZ7Aa1"
      },
      "outputs": [],
      "source": [
        "# Get precision\n",
        "train_precision = precision_at_k(mf_model_warp_50, train_sparse, k=10).mean()\n",
        "test_precision = precision_at_k(mf_model_warp_50, test_sparse, k=10).mean()\n",
        "print('Precision: train %.2f, test %.2f.' % (train_precision, test_precision))"
      ]
    },
    {
      "cell_type": "code",
      "execution_count": null,
      "metadata": {
        "scrolled": true,
        "id": "08yKTMS37Aa1"
      },
      "outputs": [],
      "source": [
        "# Get AUC\n",
        "train_auc = auc_score(mf_model_warp_50, train_sparse).mean()\n",
        "test_auc = auc_score(mf_model_warp_50, test_sparse).mean()\n",
        "print('AUC: train %.2f, test %.2f.' % (train_auc, test_auc))"
      ]
    },
    {
      "cell_type": "markdown",
      "metadata": {
        "id": "4djTROLD7Aa1"
      },
      "source": [
        "### Final model"
      ]
    },
    {
      "cell_type": "markdown",
      "metadata": {
        "id": "tB70rtYJ7Aa1"
      },
      "source": [
        "We train the chosen model (WARP loss and 30 components) on the full interactions matrix."
      ]
    },
    {
      "cell_type": "code",
      "execution_count": 29,
      "metadata": {
        "id": "NWZg3YnF7Aa2"
      },
      "outputs": [],
      "source": [
        "# Instantiate and fit model on full interactions set\n",
        "mf_model = run_model(interactions = interactions,\n",
        "                 n_components = 30,\n",
        "                 loss = 'warp',\n",
        "                 epoch = 30,\n",
        "                 n_jobs = 4)"
      ]
    },
    {
      "cell_type": "markdown",
      "source": [
        "### Save the Model"
      ],
      "metadata": {
        "id": "-lTeCavZ5wRu"
      }
    },
    {
      "cell_type": "code",
      "source": [
        "import pickle\n",
        "with open('savemodel.pickle', 'wb') as fle:\n",
        "    pickle.dump(mf_model, fle, protocol=pickle.HIGHEST_PROTOCOL)"
      ],
      "metadata": {
        "id": "8WRs7P0D51I5"
      },
      "execution_count": 30,
      "outputs": []
    },
    {
      "cell_type": "markdown",
      "metadata": {
        "id": "C8ikS5mq7Aa2"
      },
      "source": [
        "## Embeddings"
      ]
    },
    {
      "cell_type": "markdown",
      "metadata": {
        "id": "-9qY0CfW7Aa2"
      },
      "source": [
        "### Retrieve embeddings matrix"
      ]
    },
    {
      "cell_type": "code",
      "execution_count": 31,
      "metadata": {
        "scrolled": true,
        "colab": {
          "base_uri": "https://localhost:8080/"
        },
        "id": "aR-OMLiy7Aa2",
        "outputId": "04d34a00-d134-4f5d-f9ef-1fc22dc687cd"
      },
      "outputs": [
        {
          "output_type": "execute_result",
          "data": {
            "text/plain": [
              "array([[-0.5412867 ,  0.02348819,  0.10976885, ..., -0.9059307 ,\n",
              "        -0.56555724,  0.2811375 ],\n",
              "       [-0.57224786, -0.2042337 ,  0.10826642, ..., -1.254949  ,\n",
              "        -1.1801122 ,  0.27161258],\n",
              "       [-0.7774546 ,  0.52528447,  0.57639605, ..., -1.3464135 ,\n",
              "        -1.0203012 ,  0.34361365],\n",
              "       ...,\n",
              "       [ 0.09888799,  0.10324327,  0.00605705, ...,  0.23395051,\n",
              "         0.6835954 , -0.2837121 ],\n",
              "       [ 0.13891818,  0.2396983 , -0.3930448 , ..., -0.02076432,\n",
              "         0.4266315 , -0.11725882],\n",
              "       [-0.02327634,  0.16164358, -0.46542993, ...,  0.31094   ,\n",
              "         0.29916334, -0.13996886]], dtype=float32)"
            ]
          },
          "metadata": {},
          "execution_count": 31
        }
      ],
      "source": [
        "# Get embeddings\n",
        "embeddings = mf_model.item_embeddings\n",
        "embeddings"
      ]
    },
    {
      "cell_type": "code",
      "execution_count": 32,
      "metadata": {
        "colab": {
          "base_uri": "https://localhost:8080/"
        },
        "id": "CPqUHq2k7Aa2",
        "outputId": "abe73eb0-2f88-45b1-bb2f-a2a443dee472"
      },
      "outputs": [
        {
          "output_type": "execute_result",
          "data": {
            "text/plain": [
              "(8556, 30)"
            ]
          },
          "metadata": {},
          "execution_count": 32
        }
      ],
      "source": [
        "# View shape\n",
        "embeddings.shape"
      ]
    },
    {
      "cell_type": "code",
      "source": [
        "embeddings_user = mf_model.user_embeddings\n",
        "embeddings_user.shape"
      ],
      "metadata": {
        "colab": {
          "base_uri": "https://localhost:8080/"
        },
        "id": "GtP2CMzO3-6U",
        "outputId": "aa4c3e81-a370-4c94-cd46-14d0ef47e4fb"
      },
      "execution_count": 33,
      "outputs": [
        {
          "output_type": "execute_result",
          "data": {
            "text/plain": [
              "(17543, 30)"
            ]
          },
          "metadata": {},
          "execution_count": 33
        }
      ]
    },
    {
      "cell_type": "code",
      "source": [
        "array = np.array(embeddings)\n",
        "embed_vec = pd.DataFrame(array)\n",
        "embed_vec.to_csv('embeddings_item.csv')"
      ],
      "metadata": {
        "id": "vN4fupvvB1PK"
      },
      "execution_count": null,
      "outputs": []
    },
    {
      "cell_type": "code",
      "source": [
        "array = np.array(embeddings_user)\n",
        "embed_vec = pd.DataFrame(array)\n",
        "embed_vec.to_csv('embeddings_user.csv')"
      ],
      "metadata": {
        "id": "GIoSs4gg38Fa"
      },
      "execution_count": null,
      "outputs": []
    },
    {
      "cell_type": "markdown",
      "metadata": {
        "id": "rp6pkm_27Aa3"
      },
      "source": [
        "### Pair similarity"
      ]
    },
    {
      "cell_type": "code",
      "execution_count": 34,
      "metadata": {
        "colab": {
          "base_uri": "https://localhost:8080/",
          "height": 350
        },
        "id": "eL3xp-wz7Aa4",
        "outputId": "c66ae0d0-9ff3-45d2-92ff-9addc82e2606"
      },
      "outputs": [
        {
          "output_type": "execute_result",
          "data": {
            "text/plain": [
              "      publisher      genres        app_name           title  \\\n",
              "31529     Valve  ['Action']   Left 4 Dead 2   Left 4 Dead 2   \n",
              "32106     Valve  ['Action']  Counter-Strike  Counter-Strike   \n",
              "\n",
              "                                                     url release_date  \\\n",
              "31529  http://store.steampowered.com/app/550/Left_4_D...   2009-11-16   \n",
              "32106  http://store.steampowered.com/app/10/CounterSt...   2000-11-01   \n",
              "\n",
              "                                                    tags  discount_price  \\\n",
              "31529  ['Zombies', 'Co-op', 'FPS', 'Multiplayer', 'Ac...             NaN   \n",
              "32106  ['Action', 'FPS', 'Multiplayer', 'Shooter', 'C...             NaN   \n",
              "\n",
              "                                             reviews_url  \\\n",
              "31529  http://steamcommunity.com/app/550/reviews/?bro...   \n",
              "32106  http://steamcommunity.com/app/10/reviews/?brow...   \n",
              "\n",
              "                                                   specs  price  early_access  \\\n",
              "31529  ['Single-player', 'Multi-player', 'Co-op', 'St...  19.99         False   \n",
              "32106       ['Multi-player', 'Valve Anti-Cheat enabled']   9.99         False   \n",
              "\n",
              "          id developer                sentiment  metascore  \n",
              "31529  550.0     Valve  Overwhelmingly Positive       89.0  \n",
              "32106   10.0     Valve  Overwhelmingly Positive       88.0  "
            ],
            "text/html": [
              "\n",
              "  <div id=\"df-6ea6d667-190f-4e04-904d-3e4ead5980e2\">\n",
              "    <div class=\"colab-df-container\">\n",
              "      <div>\n",
              "<style scoped>\n",
              "    .dataframe tbody tr th:only-of-type {\n",
              "        vertical-align: middle;\n",
              "    }\n",
              "\n",
              "    .dataframe tbody tr th {\n",
              "        vertical-align: top;\n",
              "    }\n",
              "\n",
              "    .dataframe thead th {\n",
              "        text-align: right;\n",
              "    }\n",
              "</style>\n",
              "<table border=\"1\" class=\"dataframe\">\n",
              "  <thead>\n",
              "    <tr style=\"text-align: right;\">\n",
              "      <th></th>\n",
              "      <th>publisher</th>\n",
              "      <th>genres</th>\n",
              "      <th>app_name</th>\n",
              "      <th>title</th>\n",
              "      <th>url</th>\n",
              "      <th>release_date</th>\n",
              "      <th>tags</th>\n",
              "      <th>discount_price</th>\n",
              "      <th>reviews_url</th>\n",
              "      <th>specs</th>\n",
              "      <th>price</th>\n",
              "      <th>early_access</th>\n",
              "      <th>id</th>\n",
              "      <th>developer</th>\n",
              "      <th>sentiment</th>\n",
              "      <th>metascore</th>\n",
              "    </tr>\n",
              "  </thead>\n",
              "  <tbody>\n",
              "    <tr>\n",
              "      <th>31529</th>\n",
              "      <td>Valve</td>\n",
              "      <td>['Action']</td>\n",
              "      <td>Left 4 Dead 2</td>\n",
              "      <td>Left 4 Dead 2</td>\n",
              "      <td>http://store.steampowered.com/app/550/Left_4_D...</td>\n",
              "      <td>2009-11-16</td>\n",
              "      <td>['Zombies', 'Co-op', 'FPS', 'Multiplayer', 'Ac...</td>\n",
              "      <td>NaN</td>\n",
              "      <td>http://steamcommunity.com/app/550/reviews/?bro...</td>\n",
              "      <td>['Single-player', 'Multi-player', 'Co-op', 'St...</td>\n",
              "      <td>19.99</td>\n",
              "      <td>False</td>\n",
              "      <td>550.0</td>\n",
              "      <td>Valve</td>\n",
              "      <td>Overwhelmingly Positive</td>\n",
              "      <td>89.0</td>\n",
              "    </tr>\n",
              "    <tr>\n",
              "      <th>32106</th>\n",
              "      <td>Valve</td>\n",
              "      <td>['Action']</td>\n",
              "      <td>Counter-Strike</td>\n",
              "      <td>Counter-Strike</td>\n",
              "      <td>http://store.steampowered.com/app/10/CounterSt...</td>\n",
              "      <td>2000-11-01</td>\n",
              "      <td>['Action', 'FPS', 'Multiplayer', 'Shooter', 'C...</td>\n",
              "      <td>NaN</td>\n",
              "      <td>http://steamcommunity.com/app/10/reviews/?brow...</td>\n",
              "      <td>['Multi-player', 'Valve Anti-Cheat enabled']</td>\n",
              "      <td>9.99</td>\n",
              "      <td>False</td>\n",
              "      <td>10.0</td>\n",
              "      <td>Valve</td>\n",
              "      <td>Overwhelmingly Positive</td>\n",
              "      <td>88.0</td>\n",
              "    </tr>\n",
              "  </tbody>\n",
              "</table>\n",
              "</div>\n",
              "      <button class=\"colab-df-convert\" onclick=\"convertToInteractive('df-6ea6d667-190f-4e04-904d-3e4ead5980e2')\"\n",
              "              title=\"Convert this dataframe to an interactive table.\"\n",
              "              style=\"display:none;\">\n",
              "        \n",
              "  <svg xmlns=\"http://www.w3.org/2000/svg\" height=\"24px\"viewBox=\"0 0 24 24\"\n",
              "       width=\"24px\">\n",
              "    <path d=\"M0 0h24v24H0V0z\" fill=\"none\"/>\n",
              "    <path d=\"M18.56 5.44l.94 2.06.94-2.06 2.06-.94-2.06-.94-.94-2.06-.94 2.06-2.06.94zm-11 1L8.5 8.5l.94-2.06 2.06-.94-2.06-.94L8.5 2.5l-.94 2.06-2.06.94zm10 10l.94 2.06.94-2.06 2.06-.94-2.06-.94-.94-2.06-.94 2.06-2.06.94z\"/><path d=\"M17.41 7.96l-1.37-1.37c-.4-.4-.92-.59-1.43-.59-.52 0-1.04.2-1.43.59L10.3 9.45l-7.72 7.72c-.78.78-.78 2.05 0 2.83L4 21.41c.39.39.9.59 1.41.59.51 0 1.02-.2 1.41-.59l7.78-7.78 2.81-2.81c.8-.78.8-2.07 0-2.86zM5.41 20L4 18.59l7.72-7.72 1.47 1.35L5.41 20z\"/>\n",
              "  </svg>\n",
              "      </button>\n",
              "      \n",
              "  <style>\n",
              "    .colab-df-container {\n",
              "      display:flex;\n",
              "      flex-wrap:wrap;\n",
              "      gap: 12px;\n",
              "    }\n",
              "\n",
              "    .colab-df-convert {\n",
              "      background-color: #E8F0FE;\n",
              "      border: none;\n",
              "      border-radius: 50%;\n",
              "      cursor: pointer;\n",
              "      display: none;\n",
              "      fill: #1967D2;\n",
              "      height: 32px;\n",
              "      padding: 0 0 0 0;\n",
              "      width: 32px;\n",
              "    }\n",
              "\n",
              "    .colab-df-convert:hover {\n",
              "      background-color: #E2EBFA;\n",
              "      box-shadow: 0px 1px 2px rgba(60, 64, 67, 0.3), 0px 1px 3px 1px rgba(60, 64, 67, 0.15);\n",
              "      fill: #174EA6;\n",
              "    }\n",
              "\n",
              "    [theme=dark] .colab-df-convert {\n",
              "      background-color: #3B4455;\n",
              "      fill: #D2E3FC;\n",
              "    }\n",
              "\n",
              "    [theme=dark] .colab-df-convert:hover {\n",
              "      background-color: #434B5C;\n",
              "      box-shadow: 0px 1px 3px 1px rgba(0, 0, 0, 0.15);\n",
              "      filter: drop-shadow(0px 1px 2px rgba(0, 0, 0, 0.3));\n",
              "      fill: #FFFFFF;\n",
              "    }\n",
              "  </style>\n",
              "\n",
              "      <script>\n",
              "        const buttonEl =\n",
              "          document.querySelector('#df-6ea6d667-190f-4e04-904d-3e4ead5980e2 button.colab-df-convert');\n",
              "        buttonEl.style.display =\n",
              "          google.colab.kernel.accessAllowed ? 'block' : 'none';\n",
              "\n",
              "        async function convertToInteractive(key) {\n",
              "          const element = document.querySelector('#df-6ea6d667-190f-4e04-904d-3e4ead5980e2');\n",
              "          const dataTable =\n",
              "            await google.colab.kernel.invokeFunction('convertToInteractive',\n",
              "                                                     [key], {});\n",
              "          if (!dataTable) return;\n",
              "\n",
              "          const docLinkHtml = 'Like what you see? Visit the ' +\n",
              "            '<a target=\"_blank\" href=https://colab.research.google.com/notebooks/data_table.ipynb>data table notebook</a>'\n",
              "            + ' to learn more about interactive tables.';\n",
              "          element.innerHTML = '';\n",
              "          dataTable['output_type'] = 'display_data';\n",
              "          await google.colab.output.renderOutput(dataTable, element);\n",
              "          const docLink = document.createElement('div');\n",
              "          docLink.innerHTML = docLinkHtml;\n",
              "          element.appendChild(docLink);\n",
              "        }\n",
              "      </script>\n",
              "    </div>\n",
              "  </div>\n",
              "  "
            ]
          },
          "metadata": {},
          "execution_count": 34
        }
      ],
      "source": [
        "# Get data for both games\n",
        "gamesdata[(gamesdata['title']=='Counter-Strike') | (gamesdata['title']=='Left 4 Dead 2') ]"
      ]
    },
    {
      "cell_type": "code",
      "execution_count": 35,
      "metadata": {
        "colab": {
          "base_uri": "https://localhost:8080/"
        },
        "id": "RYczvINh7Aa4",
        "outputId": "a3c03099-09f0-490c-acb3-fd48db2f03d0"
      },
      "outputs": [
        {
          "output_type": "execute_result",
          "data": {
            "text/plain": [
              "array([-0.5412867 ,  0.02348819,  0.10976885, -0.08591701,  0.11499809,\n",
              "        0.37467992,  0.57076067, -0.0962531 , -0.15710834,  0.72031265,\n",
              "       -0.31696954, -0.23369527, -0.5247145 ,  0.05964722,  0.4277706 ,\n",
              "        0.16293211,  0.77265877, -0.6533199 ,  0.32645756, -0.488162  ,\n",
              "       -0.2751994 , -0.6949447 , -1.02404   ,  0.5580962 ,  0.7416829 ,\n",
              "       -0.54761696,  0.8519444 , -0.9059307 , -0.56555724,  0.2811375 ],\n",
              "      dtype=float32)"
            ]
          },
          "metadata": {},
          "execution_count": 35
        }
      ],
      "source": [
        "# Set index for Counter-Strike\n",
        "cs_index = 0\n",
        "\n",
        "# Obtain embeddings vector \n",
        "cs_vector = embeddings[cs_index]\n",
        "\n",
        "cs_vector"
      ]
    },
    {
      "cell_type": "code",
      "execution_count": 37,
      "metadata": {
        "colab": {
          "base_uri": "https://localhost:8080/"
        },
        "id": "_hg4h2It7Aa4",
        "outputId": "500b1c5f-6882-4b01-967c-c05aa83a71f9"
      },
      "outputs": [
        {
          "output_type": "execute_result",
          "data": {
            "text/plain": [
              "array([-0.16365293, -0.18945874,  0.25182474,  0.10139995, -0.08729753,\n",
              "       -0.22314623, -0.22573572,  0.5511986 ,  0.11017089, -0.532133  ,\n",
              "        0.22450455,  0.57921135, -0.40296042,  0.26301703,  0.9188265 ,\n",
              "       -0.34280345,  0.6412094 , -0.6686934 , -0.25595373,  0.44506073,\n",
              "        0.28094536,  0.12120873, -0.47463906,  0.04029202,  0.5431291 ,\n",
              "       -0.3349893 ,  0.46285185, -0.47037706, -0.72625697,  0.42668036],\n",
              "      dtype=float32)"
            ]
          },
          "metadata": {},
          "execution_count": 37
        }
      ],
      "source": [
        "# Retrieve game id for LFD2\n",
        "lfd2_id = gamesdata[gamesdata['title']=='Left 4 Dead 2']['id'].values[0]\n",
        "\n",
        "# Obtain index for Squad in interactions matrix\n",
        "lfd2_index = list(interactions.columns).index(lfd2_id)\n",
        "\n",
        "# Obtain embeddings vector\n",
        "lfd2_vector = embeddings[lfd2_index]\n",
        "\n",
        "lfd2_vector"
      ]
    },
    {
      "cell_type": "code",
      "execution_count": 38,
      "metadata": {
        "colab": {
          "base_uri": "https://localhost:8080/"
        },
        "id": "q_9IQRkQ7Aa4",
        "outputId": "84340e2e-5f98-4be3-816b-fd2ae60f7f7c"
      },
      "outputs": [
        {
          "output_type": "execute_result",
          "data": {
            "text/plain": [
              "2.8439459800720215"
            ]
          },
          "metadata": {},
          "execution_count": 38
        }
      ],
      "source": [
        "# Compute Euclidean distance\n",
        "distance.euclidean(cs_vector, lfd2_vector)"
      ]
    },
    {
      "cell_type": "code",
      "execution_count": 39,
      "metadata": {
        "colab": {
          "base_uri": "https://localhost:8080/",
          "height": 298
        },
        "id": "mCVnWy877Aa5",
        "outputId": "731d592a-494b-4030-f941-f074ae5e6d17"
      },
      "outputs": [
        {
          "output_type": "execute_result",
          "data": {
            "text/plain": [
              "             publisher                  genres        app_name  \\\n",
              "2472   Fireproof Games  ['Adventure', 'Indie']        The Room   \n",
              "32106            Valve              ['Action']  Counter-Strike   \n",
              "\n",
              "                title                                                url  \\\n",
              "2472         The Room  http://store.steampowered.com/app/288160/The_R...   \n",
              "32106  Counter-Strike  http://store.steampowered.com/app/10/CounterSt...   \n",
              "\n",
              "      release_date                                               tags  \\\n",
              "2472    2014-07-28  ['Puzzle', 'Adventure', 'Point & Click', 'Indi...   \n",
              "32106   2000-11-01  ['Action', 'FPS', 'Multiplayer', 'Shooter', 'C...   \n",
              "\n",
              "       discount_price                                        reviews_url  \\\n",
              "2472              NaN  http://steamcommunity.com/app/288160/reviews/?...   \n",
              "32106             NaN  http://steamcommunity.com/app/10/reviews/?brow...   \n",
              "\n",
              "                                                   specs price  early_access  \\\n",
              "2472   ['Single-player', 'Steam Achievements', 'Steam...  4.99         False   \n",
              "32106       ['Multi-player', 'Valve Anti-Cheat enabled']  9.99         False   \n",
              "\n",
              "             id        developer                sentiment  metascore  \n",
              "2472   288160.0  Fireproof Games  Overwhelmingly Positive       73.0  \n",
              "32106      10.0            Valve  Overwhelmingly Positive       88.0  "
            ],
            "text/html": [
              "\n",
              "  <div id=\"df-3619e321-7adc-4aed-9cf6-a18cbffea717\">\n",
              "    <div class=\"colab-df-container\">\n",
              "      <div>\n",
              "<style scoped>\n",
              "    .dataframe tbody tr th:only-of-type {\n",
              "        vertical-align: middle;\n",
              "    }\n",
              "\n",
              "    .dataframe tbody tr th {\n",
              "        vertical-align: top;\n",
              "    }\n",
              "\n",
              "    .dataframe thead th {\n",
              "        text-align: right;\n",
              "    }\n",
              "</style>\n",
              "<table border=\"1\" class=\"dataframe\">\n",
              "  <thead>\n",
              "    <tr style=\"text-align: right;\">\n",
              "      <th></th>\n",
              "      <th>publisher</th>\n",
              "      <th>genres</th>\n",
              "      <th>app_name</th>\n",
              "      <th>title</th>\n",
              "      <th>url</th>\n",
              "      <th>release_date</th>\n",
              "      <th>tags</th>\n",
              "      <th>discount_price</th>\n",
              "      <th>reviews_url</th>\n",
              "      <th>specs</th>\n",
              "      <th>price</th>\n",
              "      <th>early_access</th>\n",
              "      <th>id</th>\n",
              "      <th>developer</th>\n",
              "      <th>sentiment</th>\n",
              "      <th>metascore</th>\n",
              "    </tr>\n",
              "  </thead>\n",
              "  <tbody>\n",
              "    <tr>\n",
              "      <th>2472</th>\n",
              "      <td>Fireproof Games</td>\n",
              "      <td>['Adventure', 'Indie']</td>\n",
              "      <td>The Room</td>\n",
              "      <td>The Room</td>\n",
              "      <td>http://store.steampowered.com/app/288160/The_R...</td>\n",
              "      <td>2014-07-28</td>\n",
              "      <td>['Puzzle', 'Adventure', 'Point &amp; Click', 'Indi...</td>\n",
              "      <td>NaN</td>\n",
              "      <td>http://steamcommunity.com/app/288160/reviews/?...</td>\n",
              "      <td>['Single-player', 'Steam Achievements', 'Steam...</td>\n",
              "      <td>4.99</td>\n",
              "      <td>False</td>\n",
              "      <td>288160.0</td>\n",
              "      <td>Fireproof Games</td>\n",
              "      <td>Overwhelmingly Positive</td>\n",
              "      <td>73.0</td>\n",
              "    </tr>\n",
              "    <tr>\n",
              "      <th>32106</th>\n",
              "      <td>Valve</td>\n",
              "      <td>['Action']</td>\n",
              "      <td>Counter-Strike</td>\n",
              "      <td>Counter-Strike</td>\n",
              "      <td>http://store.steampowered.com/app/10/CounterSt...</td>\n",
              "      <td>2000-11-01</td>\n",
              "      <td>['Action', 'FPS', 'Multiplayer', 'Shooter', 'C...</td>\n",
              "      <td>NaN</td>\n",
              "      <td>http://steamcommunity.com/app/10/reviews/?brow...</td>\n",
              "      <td>['Multi-player', 'Valve Anti-Cheat enabled']</td>\n",
              "      <td>9.99</td>\n",
              "      <td>False</td>\n",
              "      <td>10.0</td>\n",
              "      <td>Valve</td>\n",
              "      <td>Overwhelmingly Positive</td>\n",
              "      <td>88.0</td>\n",
              "    </tr>\n",
              "  </tbody>\n",
              "</table>\n",
              "</div>\n",
              "      <button class=\"colab-df-convert\" onclick=\"convertToInteractive('df-3619e321-7adc-4aed-9cf6-a18cbffea717')\"\n",
              "              title=\"Convert this dataframe to an interactive table.\"\n",
              "              style=\"display:none;\">\n",
              "        \n",
              "  <svg xmlns=\"http://www.w3.org/2000/svg\" height=\"24px\"viewBox=\"0 0 24 24\"\n",
              "       width=\"24px\">\n",
              "    <path d=\"M0 0h24v24H0V0z\" fill=\"none\"/>\n",
              "    <path d=\"M18.56 5.44l.94 2.06.94-2.06 2.06-.94-2.06-.94-.94-2.06-.94 2.06-2.06.94zm-11 1L8.5 8.5l.94-2.06 2.06-.94-2.06-.94L8.5 2.5l-.94 2.06-2.06.94zm10 10l.94 2.06.94-2.06 2.06-.94-2.06-.94-.94-2.06-.94 2.06-2.06.94z\"/><path d=\"M17.41 7.96l-1.37-1.37c-.4-.4-.92-.59-1.43-.59-.52 0-1.04.2-1.43.59L10.3 9.45l-7.72 7.72c-.78.78-.78 2.05 0 2.83L4 21.41c.39.39.9.59 1.41.59.51 0 1.02-.2 1.41-.59l7.78-7.78 2.81-2.81c.8-.78.8-2.07 0-2.86zM5.41 20L4 18.59l7.72-7.72 1.47 1.35L5.41 20z\"/>\n",
              "  </svg>\n",
              "      </button>\n",
              "      \n",
              "  <style>\n",
              "    .colab-df-container {\n",
              "      display:flex;\n",
              "      flex-wrap:wrap;\n",
              "      gap: 12px;\n",
              "    }\n",
              "\n",
              "    .colab-df-convert {\n",
              "      background-color: #E8F0FE;\n",
              "      border: none;\n",
              "      border-radius: 50%;\n",
              "      cursor: pointer;\n",
              "      display: none;\n",
              "      fill: #1967D2;\n",
              "      height: 32px;\n",
              "      padding: 0 0 0 0;\n",
              "      width: 32px;\n",
              "    }\n",
              "\n",
              "    .colab-df-convert:hover {\n",
              "      background-color: #E2EBFA;\n",
              "      box-shadow: 0px 1px 2px rgba(60, 64, 67, 0.3), 0px 1px 3px 1px rgba(60, 64, 67, 0.15);\n",
              "      fill: #174EA6;\n",
              "    }\n",
              "\n",
              "    [theme=dark] .colab-df-convert {\n",
              "      background-color: #3B4455;\n",
              "      fill: #D2E3FC;\n",
              "    }\n",
              "\n",
              "    [theme=dark] .colab-df-convert:hover {\n",
              "      background-color: #434B5C;\n",
              "      box-shadow: 0px 1px 3px 1px rgba(0, 0, 0, 0.15);\n",
              "      filter: drop-shadow(0px 1px 2px rgba(0, 0, 0, 0.3));\n",
              "      fill: #FFFFFF;\n",
              "    }\n",
              "  </style>\n",
              "\n",
              "      <script>\n",
              "        const buttonEl =\n",
              "          document.querySelector('#df-3619e321-7adc-4aed-9cf6-a18cbffea717 button.colab-df-convert');\n",
              "        buttonEl.style.display =\n",
              "          google.colab.kernel.accessAllowed ? 'block' : 'none';\n",
              "\n",
              "        async function convertToInteractive(key) {\n",
              "          const element = document.querySelector('#df-3619e321-7adc-4aed-9cf6-a18cbffea717');\n",
              "          const dataTable =\n",
              "            await google.colab.kernel.invokeFunction('convertToInteractive',\n",
              "                                                     [key], {});\n",
              "          if (!dataTable) return;\n",
              "\n",
              "          const docLinkHtml = 'Like what you see? Visit the ' +\n",
              "            '<a target=\"_blank\" href=https://colab.research.google.com/notebooks/data_table.ipynb>data table notebook</a>'\n",
              "            + ' to learn more about interactive tables.';\n",
              "          element.innerHTML = '';\n",
              "          dataTable['output_type'] = 'display_data';\n",
              "          await google.colab.output.renderOutput(dataTable, element);\n",
              "          const docLink = document.createElement('div');\n",
              "          docLink.innerHTML = docLinkHtml;\n",
              "          element.appendChild(docLink);\n",
              "        }\n",
              "      </script>\n",
              "    </div>\n",
              "  </div>\n",
              "  "
            ]
          },
          "metadata": {},
          "execution_count": 39
        }
      ],
      "source": [
        "# Get data for both games\n",
        "gamesdata[(gamesdata['title']=='Counter-Strike') | (gamesdata['title']=='The Room') ]"
      ]
    },
    {
      "cell_type": "code",
      "execution_count": 40,
      "metadata": {
        "colab": {
          "base_uri": "https://localhost:8080/"
        },
        "id": "X2eXfDw27Aa5",
        "outputId": "c6db2859-dfb3-4c23-f798-6704845b26ec"
      },
      "outputs": [
        {
          "output_type": "execute_result",
          "data": {
            "text/plain": [
              "array([-1.16254054e-01, -3.64164501e-01, -5.60629547e-01,  1.84421808e-01,\n",
              "       -4.99474496e-01,  4.90330666e-01, -4.74702001e-01,  1.94227174e-01,\n",
              "       -4.53672409e-01,  3.81468058e-01,  5.31523675e-02,  1.70396775e-01,\n",
              "        1.12859495e-01,  5.01241446e-01,  2.30470003e-04, -3.98913890e-01,\n",
              "        4.55852568e-01, -2.90358871e-01, -6.59579813e-01,  2.44092301e-01,\n",
              "       -3.39492887e-01,  3.17269892e-01, -5.31082414e-02, -3.30659211e-01,\n",
              "        1.38441905e-01,  1.85453668e-01,  3.88976336e-02, -6.29440993e-02,\n",
              "       -2.72225142e-01,  1.49066657e-01], dtype=float32)"
            ]
          },
          "metadata": {},
          "execution_count": 40
        }
      ],
      "source": [
        "# Retrieve game id for The Room\n",
        "room_id = gamesdata[gamesdata['title']=='The Room']['id'].values[0]\n",
        "\n",
        "# Obtain index for Squad in interactions matrix\n",
        "room_index = list(interactions.columns).index(room_id)\n",
        "\n",
        "# Obtain embeddings vector\n",
        "room_vector = embeddings[room_index]\n",
        "\n",
        "room_vector"
      ]
    },
    {
      "cell_type": "code",
      "execution_count": 41,
      "metadata": {
        "colab": {
          "base_uri": "https://localhost:8080/"
        },
        "id": "w66lWTuQ7Aa5",
        "outputId": "4a41469e-ef60-4124-8a47-e07083ca6bb2"
      },
      "outputs": [
        {
          "output_type": "execute_result",
          "data": {
            "text/plain": [
              "3.3019859790802"
            ]
          },
          "metadata": {},
          "execution_count": 41
        }
      ],
      "source": [
        "# Compute Euclidean distance\n",
        "distance.euclidean(cs_vector, room_vector)"
      ]
    },
    {
      "cell_type": "code",
      "execution_count": 42,
      "metadata": {
        "scrolled": true,
        "colab": {
          "base_uri": "https://localhost:8080/"
        },
        "id": "30vqEjMf7Aa5",
        "outputId": "8be1b94d-b29f-49d8-f4aa-2b5c99fcaeec"
      },
      "outputs": [
        {
          "output_type": "stream",
          "name": "stdout",
          "text": [
            "Cosine distance between Counter Strike and Left 4 Dead 2: 0.5916091799736023\n",
            "Cosine distance between Counter Strike and The Room: 0.9524738863110542\n"
          ]
        }
      ],
      "source": [
        "print(f'Cosine distance between Counter Strike and Left 4 Dead 2: {distance.cosine(cs_vector, lfd2_vector)}')\n",
        "print(f'Cosine distance between Counter Strike and The Room: {distance.cosine(cs_vector, room_vector)}')"
      ]
    },
    {
      "cell_type": "markdown",
      "metadata": {
        "id": "ORiBaR_w7Aa5"
      },
      "source": [
        "### Exploring embeddings with Gensim"
      ]
    },
    {
      "cell_type": "code",
      "execution_count": 43,
      "metadata": {
        "scrolled": true,
        "id": "MJuazeFg7Aa6"
      },
      "outputs": [],
      "source": [
        "# Set embedding size\n",
        "embedding_size = embeddings.shape[1]\n",
        "\n",
        "# Create instance\n",
        "kv = WordEmbeddingsKeyedVectors(embedding_size)\n",
        "\n",
        "# Get list of game names in correct order to match embeddings\n",
        "gameslist = []\n",
        "for game_id in interactions.columns:\n",
        "    name = games_dict[game_id]\n",
        "    gameslist.append(name)\n",
        "    \n",
        "# Add to kv\n",
        "kv.add(gameslist, embeddings )"
      ]
    },
    {
      "cell_type": "code",
      "source": [
        "gamelist_array = np.array(gameslist)\n",
        "game_vec = pd.DataFrame(gamelist_array)\n",
        "game_vec.to_csv('gameslist.csv')"
      ],
      "metadata": {
        "id": "caPpS0SrRcvf"
      },
      "execution_count": 44,
      "outputs": []
    },
    {
      "cell_type": "markdown",
      "metadata": {
        "id": "ARjqmTuK7Aa6"
      },
      "source": [
        "Let us obtain the games closest to `Counter-Strike`."
      ]
    },
    {
      "cell_type": "code",
      "execution_count": 45,
      "metadata": {
        "scrolled": true,
        "colab": {
          "base_uri": "https://localhost:8080/"
        },
        "id": "ZcoflQJO7Aa6",
        "outputId": "dff87b38-c866-4680-ac94-1650702fd0a2"
      },
      "outputs": [
        {
          "output_type": "execute_result",
          "data": {
            "text/plain": [
              "[(\"Don't Starve Together\", 0.9340161085128784),\n",
              " (\"Garry's Mod\", 0.8795755505561829),\n",
              " ('Starbound', 0.8781559467315674),\n",
              " ('Guns of Icarus Online', 0.8653362393379211),\n",
              " ('The Binding of Isaac', 0.8490466475486755),\n",
              " ('Castle Crashers®', 0.8381572961807251),\n",
              " ('Chivalry: Medieval Warfare', 0.8241996765136719),\n",
              " ('Awesomenauts - the 2D moba', 0.8230317234992981),\n",
              " ('One Finger Death Punch', 0.8099187612533569),\n",
              " (\"Monaco: What's Yours Is Mine\", 0.7980678677558899)]"
            ]
          },
          "metadata": {},
          "execution_count": 45
        }
      ],
      "source": [
        "# Get games closest to Terraria\n",
        "kv.most_similar('Terraria')"
      ]
    },
    {
      "cell_type": "code",
      "execution_count": 47,
      "metadata": {
        "scrolled": true,
        "colab": {
          "base_uri": "https://localhost:8080/"
        },
        "id": "q8F0NdyK7Aa6",
        "outputId": "0df19b58-3c1a-4fb4-baeb-5e93c8c32bcc"
      },
      "outputs": [
        {
          "output_type": "execute_result",
          "data": {
            "text/plain": [
              "[('RollerCoaster Tycoon® 2: Triple Thrill Pack', 0.9261648654937744),\n",
              " ('RollerCoaster Tycoon® 3: Platinum', 0.7342031002044678),\n",
              " ('Cities: Skylines', 0.6111526489257812),\n",
              " ('Domestic Dog', 0.6046863794326782),\n",
              " ('The Political Machine 2016', 0.5889437198638916),\n",
              " ('Farming Simulator 2013 Modding Tutorials', 0.5694013833999634),\n",
              " ('Kerbal Space Program', 0.5653114318847656),\n",
              " ('BIT.TRIP VOID', 0.5645442605018616),\n",
              " ('Game Dev Tycoon', 0.5606091618537903),\n",
              " ('Bloons TD 5', 0.5593353509902954)]"
            ]
          },
          "metadata": {},
          "execution_count": 47
        }
      ],
      "source": [
        "# Get games closest to RollerCoaster Tycoon\n",
        "kv.most_similar('RollerCoaster Tycoon®: Deluxe')"
      ]
    },
    {
      "cell_type": "code",
      "execution_count": 48,
      "metadata": {
        "id": "hhaTWNGH7Aa7"
      },
      "outputs": [],
      "source": [
        "def plot_similar(item, ax, topn=5):\n",
        "    '''\n",
        "    Plots a bar chart of similar items\n",
        "    Arguments:\n",
        "        - item, string\n",
        "        - ax, axes on which to plot\n",
        "        - topn (default = 5) number of similar items to plot\n",
        "    '''\n",
        "    sim = kv.most_similar(item, topn=topn)[::-1]\n",
        "    y = np.arange(len(sim))\n",
        "    w = [t[1] for t in sim]\n",
        "    ax.barh(y, w)\n",
        "    left = min(.6, min(w))\n",
        "    ax.set_xlim(right=1.0, left=left)\n",
        "    # Split long titles over multiple lines\n",
        "    labels = [textwrap.fill(t[0] , width=24)\n",
        "              for t in sim]\n",
        "    ax.set_yticks(y)\n",
        "    ax.set_yticklabels(labels)\n",
        "    ax.set_title(item)   "
      ]
    },
    {
      "cell_type": "code",
      "execution_count": 49,
      "metadata": {
        "colab": {
          "base_uri": "https://localhost:8080/",
          "height": 657
        },
        "id": "yR4PVR1x7Aa9",
        "outputId": "5b55b5ed-9fa8-47ef-8ec0-1aee20e1ebd6"
      },
      "outputs": [
        {
          "output_type": "display_data",
          "data": {
            "text/plain": [
              "<Figure size 1080x648 with 6 Axes>"
            ],
            "image/png": "[encoded data removed]"
          },
          "metadata": {
            "needs_background": "light"
          }
        }
      ],
      "source": [
        "# Define list of games to visualise similar items for\n",
        "games = ['Counter-Strike', 'The Room', 'RollerCoaster Tycoon®: Deluxe', 'Dishonored', \n",
        "         'The Jackbox Party Pack', 'American Truck Simulator']\n",
        "\n",
        "# Set figure/axes to have 3 rows with 2 columns\n",
        "fig, axes = plt.subplots(3, 2, figsize=(15, 9))\n",
        "\n",
        "# Loop through games and use plot_similar function \n",
        "for game, ax in zip(games, axes.flatten()):\n",
        "    plot_similar(game, ax)\n",
        "    \n",
        "fig.tight_layout()"
      ]
    },
    {
      "cell_type": "markdown",
      "metadata": {
        "id": "nx8-ZfiF7Aa_"
      },
      "source": [
        "## User Recommendations"
      ]
    },
    {
      "cell_type": "markdown",
      "metadata": {
        "id": "3N0hdZQR7Aa_"
      },
      "source": [
        "### Recommendations for existing user"
      ]
    },
    {
      "cell_type": "code",
      "execution_count": 50,
      "metadata": {
        "id": "L7hWd--w7Aa_",
        "outputId": "ea788fdd-d514-4644-c0b0-c4f74914a5dd",
        "colab": {
          "base_uri": "https://localhost:8080/"
        }
      },
      "outputs": [
        {
          "output_type": "stream",
          "name": "stdout",
          "text": [
            "Known Likes:\n",
            "1- Emily is Away\n",
            "2- No More Room in Hell\n",
            "3- Age of Empires II HD\n",
            "4- PlanetSide 2\n",
            "5- Sanctum 2\n",
            "6- Crysis 2 - Maximum Edition\n",
            "7- Age of Empires® III: Complete Collection\n",
            "8- Saints Row: The Third\n",
            "9- Red Faction®: Armageddon™\n",
            "10- Darksiders™\n",
            "11- LIMBO\n",
            "12- Medal of Honor™\n",
            "13- Defence Alliance 2\n",
            "14- Command &amp; Conquer: Red Alert 3 - Uprising\n",
            "15- Burnout Paradise: The Ultimate Box\n",
            "16- Company of Heroes: Tales of Valor\n",
            "17- Dead Space\n",
            "18- Mirror's Edge™\n",
            "19- Sid Meier's Civilization® V\n",
            "20- Warhammer® 40,000: Dawn of War® - Game of the Year Edition\n",
            "21- Company of Heroes - Legacy Edition\n",
            "22- Garry's Mod\n",
            "23- Killing Floor\n",
            "24- Counter-Strike: Global Offensive\n",
            "25- Left 4 Dead 2\n",
            "26- Portal\n",
            "27- Half-Life 2: Lost Coast\n",
            "28- Half-Life 2: Deathmatch\n",
            "29- Counter-Strike: Source\n",
            "30- Half-Life 2\n",
            "\n",
            " Recommended Items:\n",
            "1- Portal 2\n",
            "2- Terraria\n",
            "3- Half-Life Deathmatch: Source\n",
            "4- Half-Life 2: Episode One\n",
            "5- Red Orchestra 2: Heroes of Stalingrad with Rising Storm\n"
          ]
        }
      ],
      "source": [
        "# Get recommendations\n",
        "rec_list_u12 = get_recs(model = mf_model, \n",
        "                    interactions = interactions, \n",
        "                    user_id = 2022, \n",
        "                    user_dict = user_dict,\n",
        "                    item_dict = games_dict, \n",
        "                    threshold = 0,\n",
        "                    num_items = 5,\n",
        "                    show_known = True, \n",
        "                    show_recs = True)"
      ]
    },
    {
      "cell_type": "markdown",
      "metadata": {
        "id": "R4lX7-AU7Aa_"
      },
      "source": [
        "These look reasonable, for instance we note the choice of sequels e.g. Portal 2 when user owns Portal."
      ]
    },
    {
      "cell_type": "markdown",
      "metadata": {
        "id": "0ivAMnBW7Aa_"
      },
      "source": [
        "## Item Recommendations"
      ]
    },
    {
      "cell_type": "markdown",
      "metadata": {
        "id": "w1hZsZTV7Aa_"
      },
      "source": [
        "### Create item embedding matrix"
      ]
    },
    {
      "cell_type": "code",
      "execution_count": 51,
      "metadata": {
        "id": "Oep09zJb7Aa_"
      },
      "outputs": [],
      "source": [
        "item_dist = create_item_emdedding_matrix(model = mf_model,interactions = interactions)"
      ]
    },
    {
      "cell_type": "code",
      "source": [
        "item_dist.to_csv('item_dist.csv')"
      ],
      "metadata": {
        "id": "MehE-CjIcK0J"
      },
      "execution_count": null,
      "outputs": []
    },
    {
      "cell_type": "code",
      "execution_count": 52,
      "metadata": {
        "id": "XVRMaIOI7Aa_",
        "outputId": "9d0a8f3d-d226-48c0-b18a-5cd7aca829db",
        "colab": {
          "base_uri": "https://localhost:8080/"
        }
      },
      "outputs": [
        {
          "output_type": "execute_result",
          "data": {
            "text/plain": [
              "(8556, 8556)"
            ]
          },
          "metadata": {},
          "execution_count": 52
        }
      ],
      "source": [
        "item_dist.shape"
      ]
    },
    {
      "cell_type": "code",
      "execution_count": 53,
      "metadata": {
        "id": "kpUdnXsp7AbA",
        "outputId": "8a76a6c8-5d13-4f0e-a3a0-60f724d0dcec",
        "colab": {
          "base_uri": "https://localhost:8080/",
          "height": 331
        }
      },
      "outputs": [
        {
          "output_type": "execute_result",
          "data": {
            "text/plain": [
              "id    10        20        30        40        50        60        70      \\\n",
              "id                                                                         \n",
              "10  1.000000  0.830470  0.899193  0.879136  0.836847  0.875522  0.833472   \n",
              "20  0.830470  1.000000  0.867025  0.849281  0.996328  0.845589  0.987361   \n",
              "30  0.899193  0.867025  1.000000  0.987201  0.874707  0.984740  0.844664   \n",
              "40  0.879136  0.849281  0.987201  1.000000  0.860043  0.996597  0.825841   \n",
              "50  0.836847  0.996328  0.874707  0.860043  1.000000  0.854297  0.989555   \n",
              "\n",
              "id    80        130       220     ...    526790    527340    527440    527510  \\\n",
              "id                                ...                                           \n",
              "10  0.987746  0.837079  0.651190  ... -0.299491  0.111600 -0.068783 -0.359983   \n",
              "20  0.785627  0.996866  0.838186  ... -0.235583 -0.057984 -0.157298 -0.182450   \n",
              "30  0.847863  0.872855  0.660565  ... -0.175884 -0.075180 -0.090550 -0.185586   \n",
              "40  0.825526  0.857881  0.604275  ... -0.079978 -0.115122 -0.056671 -0.100030   \n",
              "50  0.792078  0.998697  0.836524  ... -0.235906 -0.079881 -0.183392 -0.205223   \n",
              "\n",
              "id    527520    527810    527890    527900    528660    530720  \n",
              "id                                                              \n",
              "10 -0.326207 -0.227574 -0.313548 -0.268291 -0.286403 -0.127395  \n",
              "20 -0.189111 -0.153156 -0.261294 -0.258643 -0.245289 -0.170945  \n",
              "30 -0.189984 -0.113940 -0.192254 -0.200066 -0.153575 -0.060382  \n",
              "40 -0.106409 -0.055226 -0.109820 -0.115064 -0.085762  0.003704  \n",
              "50 -0.208017 -0.142624 -0.271892 -0.274149 -0.263164 -0.196856  \n",
              "\n",
              "[5 rows x 8556 columns]"
            ],
            "text/html": [
              "\n",
              "  <div id=\"df-f4f317f5-52db-47a6-8439-faa509c23d86\">\n",
              "    <div class=\"colab-df-container\">\n",
              "      <div>\n",
              "<style scoped>\n",
              "    .dataframe tbody tr th:only-of-type {\n",
              "        vertical-align: middle;\n",
              "    }\n",
              "\n",
              "    .dataframe tbody tr th {\n",
              "        vertical-align: top;\n",
              "    }\n",
              "\n",
              "    .dataframe thead th {\n",
              "        text-align: right;\n",
              "    }\n",
              "</style>\n",
              "<table border=\"1\" class=\"dataframe\">\n",
              "  <thead>\n",
              "    <tr style=\"text-align: right;\">\n",
              "      <th>id</th>\n",
              "      <th>10</th>\n",
              "      <th>20</th>\n",
              "      <th>30</th>\n",
              "      <th>40</th>\n",
              "      <th>50</th>\n",
              "      <th>60</th>\n",
              "      <th>70</th>\n",
              "      <th>80</th>\n",
              "      <th>130</th>\n",
              "      <th>220</th>\n",
              "      <th>...</th>\n",
              "      <th>526790</th>\n",
              "      <th>527340</th>\n",
              "      <th>527440</th>\n",
              "      <th>527510</th>\n",
              "      <th>527520</th>\n",
              "      <th>527810</th>\n",
              "      <th>527890</th>\n",
              "      <th>527900</th>\n",
              "      <th>528660</th>\n",
              "      <th>530720</th>\n",
              "    </tr>\n",
              "    <tr>\n",
              "      <th>id</th>\n",
              "      <th></th>\n",
              "      <th></th>\n",
              "      <th></th>\n",
              "      <th></th>\n",
              "      <th></th>\n",
              "      <th></th>\n",
              "      <th></th>\n",
              "      <th></th>\n",
              "      <th></th>\n",
              "      <th></th>\n",
              "      <th></th>\n",
              "      <th></th>\n",
              "      <th></th>\n",
              "      <th></th>\n",
              "      <th></th>\n",
              "      <th></th>\n",
              "      <th></th>\n",
              "      <th></th>\n",
              "      <th></th>\n",
              "      <th></th>\n",
              "      <th></th>\n",
              "    </tr>\n",
              "  </thead>\n",
              "  <tbody>\n",
              "    <tr>\n",
              "      <th>10</th>\n",
              "      <td>1.000000</td>\n",
              "      <td>0.830470</td>\n",
              "      <td>0.899193</td>\n",
              "      <td>0.879136</td>\n",
              "      <td>0.836847</td>\n",
              "      <td>0.875522</td>\n",
              "      <td>0.833472</td>\n",
              "      <td>0.987746</td>\n",
              "      <td>0.837079</td>\n",
              "      <td>0.651190</td>\n",
              "      <td>...</td>\n",
              "      <td>-0.299491</td>\n",
              "      <td>0.111600</td>\n",
              "      <td>-0.068783</td>\n",
              "      <td>-0.359983</td>\n",
              "      <td>-0.326207</td>\n",
              "      <td>-0.227574</td>\n",
              "      <td>-0.313548</td>\n",
              "      <td>-0.268291</td>\n",
              "      <td>-0.286403</td>\n",
              "      <td>-0.127395</td>\n",
              "    </tr>\n",
              "    <tr>\n",
              "      <th>20</th>\n",
              "      <td>0.830470</td>\n",
              "      <td>1.000000</td>\n",
              "      <td>0.867025</td>\n",
              "      <td>0.849281</td>\n",
              "      <td>0.996328</td>\n",
              "      <td>0.845589</td>\n",
              "      <td>0.987361</td>\n",
              "      <td>0.785627</td>\n",
              "      <td>0.996866</td>\n",
              "      <td>0.838186</td>\n",
              "      <td>...</td>\n",
              "      <td>-0.235583</td>\n",
              "      <td>-0.057984</td>\n",
              "      <td>-0.157298</td>\n",
              "      <td>-0.182450</td>\n",
              "      <td>-0.189111</td>\n",
              "      <td>-0.153156</td>\n",
              "      <td>-0.261294</td>\n",
              "      <td>-0.258643</td>\n",
              "      <td>-0.245289</td>\n",
              "      <td>-0.170945</td>\n",
              "    </tr>\n",
              "    <tr>\n",
              "      <th>30</th>\n",
              "      <td>0.899193</td>\n",
              "      <td>0.867025</td>\n",
              "      <td>1.000000</td>\n",
              "      <td>0.987201</td>\n",
              "      <td>0.874707</td>\n",
              "      <td>0.984740</td>\n",
              "      <td>0.844664</td>\n",
              "      <td>0.847863</td>\n",
              "      <td>0.872855</td>\n",
              "      <td>0.660565</td>\n",
              "      <td>...</td>\n",
              "      <td>-0.175884</td>\n",
              "      <td>-0.075180</td>\n",
              "      <td>-0.090550</td>\n",
              "      <td>-0.185586</td>\n",
              "      <td>-0.189984</td>\n",
              "      <td>-0.113940</td>\n",
              "      <td>-0.192254</td>\n",
              "      <td>-0.200066</td>\n",
              "      <td>-0.153575</td>\n",
              "      <td>-0.060382</td>\n",
              "    </tr>\n",
              "    <tr>\n",
              "      <th>40</th>\n",
              "      <td>0.879136</td>\n",
              "      <td>0.849281</td>\n",
              "      <td>0.987201</td>\n",
              "      <td>1.000000</td>\n",
              "      <td>0.860043</td>\n",
              "      <td>0.996597</td>\n",
              "      <td>0.825841</td>\n",
              "      <td>0.825526</td>\n",
              "      <td>0.857881</td>\n",
              "      <td>0.604275</td>\n",
              "      <td>...</td>\n",
              "      <td>-0.079978</td>\n",
              "      <td>-0.115122</td>\n",
              "      <td>-0.056671</td>\n",
              "      <td>-0.100030</td>\n",
              "      <td>-0.106409</td>\n",
              "      <td>-0.055226</td>\n",
              "      <td>-0.109820</td>\n",
              "      <td>-0.115064</td>\n",
              "      <td>-0.085762</td>\n",
              "      <td>0.003704</td>\n",
              "    </tr>\n",
              "    <tr>\n",
              "      <th>50</th>\n",
              "      <td>0.836847</td>\n",
              "      <td>0.996328</td>\n",
              "      <td>0.874707</td>\n",
              "      <td>0.860043</td>\n",
              "      <td>1.000000</td>\n",
              "      <td>0.854297</td>\n",
              "      <td>0.989555</td>\n",
              "      <td>0.792078</td>\n",
              "      <td>0.998697</td>\n",
              "      <td>0.836524</td>\n",
              "      <td>...</td>\n",
              "      <td>-0.235906</td>\n",
              "      <td>-0.079881</td>\n",
              "      <td>-0.183392</td>\n",
              "      <td>-0.205223</td>\n",
              "      <td>-0.208017</td>\n",
              "      <td>-0.142624</td>\n",
              "      <td>-0.271892</td>\n",
              "      <td>-0.274149</td>\n",
              "      <td>-0.263164</td>\n",
              "      <td>-0.196856</td>\n",
              "    </tr>\n",
              "  </tbody>\n",
              "</table>\n",
              "<p>5 rows × 8556 columns</p>\n",
              "</div>\n",
              "      <button class=\"colab-df-convert\" onclick=\"convertToInteractive('df-f4f317f5-52db-47a6-8439-faa509c23d86')\"\n",
              "              title=\"Convert this dataframe to an interactive table.\"\n",
              "              style=\"display:none;\">\n",
              "        \n",
              "  <svg xmlns=\"http://www.w3.org/2000/svg\" height=\"24px\"viewBox=\"0 0 24 24\"\n",
              "       width=\"24px\">\n",
              "    <path d=\"M0 0h24v24H0V0z\" fill=\"none\"/>\n",
              "    <path d=\"M18.56 5.44l.94 2.06.94-2.06 2.06-.94-2.06-.94-.94-2.06-.94 2.06-2.06.94zm-11 1L8.5 8.5l.94-2.06 2.06-.94-2.06-.94L8.5 2.5l-.94 2.06-2.06.94zm10 10l.94 2.06.94-2.06 2.06-.94-2.06-.94-.94-2.06-.94 2.06-2.06.94z\"/><path d=\"M17.41 7.96l-1.37-1.37c-.4-.4-.92-.59-1.43-.59-.52 0-1.04.2-1.43.59L10.3 9.45l-7.72 7.72c-.78.78-.78 2.05 0 2.83L4 21.41c.39.39.9.59 1.41.59.51 0 1.02-.2 1.41-.59l7.78-7.78 2.81-2.81c.8-.78.8-2.07 0-2.86zM5.41 20L4 18.59l7.72-7.72 1.47 1.35L5.41 20z\"/>\n",
              "  </svg>\n",
              "      </button>\n",
              "      \n",
              "  <style>\n",
              "    .colab-df-container {\n",
              "      display:flex;\n",
              "      flex-wrap:wrap;\n",
              "      gap: 12px;\n",
              "    }\n",
              "\n",
              "    .colab-df-convert {\n",
              "      background-color: #E8F0FE;\n",
              "      border: none;\n",
              "      border-radius: 50%;\n",
              "      cursor: pointer;\n",
              "      display: none;\n",
              "      fill: #1967D2;\n",
              "      height: 32px;\n",
              "      padding: 0 0 0 0;\n",
              "      width: 32px;\n",
              "    }\n",
              "\n",
              "    .colab-df-convert:hover {\n",
              "      background-color: #E2EBFA;\n",
              "      box-shadow: 0px 1px 2px rgba(60, 64, 67, 0.3), 0px 1px 3px 1px rgba(60, 64, 67, 0.15);\n",
              "      fill: #174EA6;\n",
              "    }\n",
              "\n",
              "    [theme=dark] .colab-df-convert {\n",
              "      background-color: #3B4455;\n",
              "      fill: #D2E3FC;\n",
              "    }\n",
              "\n",
              "    [theme=dark] .colab-df-convert:hover {\n",
              "      background-color: #434B5C;\n",
              "      box-shadow: 0px 1px 3px 1px rgba(0, 0, 0, 0.15);\n",
              "      filter: drop-shadow(0px 1px 2px rgba(0, 0, 0, 0.3));\n",
              "      fill: #FFFFFF;\n",
              "    }\n",
              "  </style>\n",
              "\n",
              "      <script>\n",
              "        const buttonEl =\n",
              "          document.querySelector('#df-f4f317f5-52db-47a6-8439-faa509c23d86 button.colab-df-convert');\n",
              "        buttonEl.style.display =\n",
              "          google.colab.kernel.accessAllowed ? 'block' : 'none';\n",
              "\n",
              "        async function convertToInteractive(key) {\n",
              "          const element = document.querySelector('#df-f4f317f5-52db-47a6-8439-faa509c23d86');\n",
              "          const dataTable =\n",
              "            await google.colab.kernel.invokeFunction('convertToInteractive',\n",
              "                                                     [key], {});\n",
              "          if (!dataTable) return;\n",
              "\n",
              "          const docLinkHtml = 'Like what you see? Visit the ' +\n",
              "            '<a target=\"_blank\" href=https://colab.research.google.com/notebooks/data_table.ipynb>data table notebook</a>'\n",
              "            + ' to learn more about interactive tables.';\n",
              "          element.innerHTML = '';\n",
              "          dataTable['output_type'] = 'display_data';\n",
              "          await google.colab.output.renderOutput(dataTable, element);\n",
              "          const docLink = document.createElement('div');\n",
              "          docLink.innerHTML = docLinkHtml;\n",
              "          element.appendChild(docLink);\n",
              "        }\n",
              "      </script>\n",
              "    </div>\n",
              "  </div>\n",
              "  "
            ]
          },
          "metadata": {},
          "execution_count": 53
        }
      ],
      "source": [
        "item_dist.head()"
      ]
    },
    {
      "cell_type": "markdown",
      "metadata": {
        "id": "Rsldy3P77AbA"
      },
      "source": [
        "### Generate item recommendations"
      ]
    },
    {
      "cell_type": "code",
      "execution_count": 58,
      "metadata": {
        "id": "fFuryuMM7AbA",
        "outputId": "32e6975a-8a24-40f6-ec92-dd6424c476e9",
        "colab": {
          "base_uri": "https://localhost:8080/"
        }
      },
      "outputs": [
        {
          "output_type": "stream",
          "name": "stdout",
          "text": [
            "Item of interest: Team Fortress Classic\n",
            "Similar items:\n",
            "1- Half-Life: Blue Shift\n",
            "2- Half-Life: Opposing Force\n",
            "3- Half-Life\n",
            "4- Half-Life: Source\n",
            "5- Half-Life 2: Episode One\n"
          ]
        }
      ],
      "source": [
        "# Similar items to item_id 10 - Counter Strike\n",
        "item_rec_list_10 = get_item_recs(item_emdedding_matrix = item_dist, \n",
        "                              item_id = 20, \n",
        "                              item_dict = games_dict, \n",
        "                              n_items = 5, \n",
        "                              show = True)"
      ]
    },
    {
      "cell_type": "code",
      "execution_count": 59,
      "metadata": {
        "id": "Af52ZqEF7AbA",
        "outputId": "8bb988f1-6361-4bf0-9d11-56c540e1feda",
        "colab": {
          "base_uri": "https://localhost:8080/",
          "height": 214
        }
      },
      "outputs": [
        {
          "output_type": "execute_result",
          "data": {
            "text/plain": [
              "         publisher                  genres     app_name        title  \\\n",
              "5211  Thekla, Inc.  ['Adventure', 'Indie']  The Witness  The Witness   \n",
              "\n",
              "                                                    url release_date  \\\n",
              "5211  http://store.steampowered.com/app/210970/The_W...   2016-01-26   \n",
              "\n",
              "                                                   tags  discount_price  \\\n",
              "5211  ['Puzzle', 'Exploration', 'First-Person', 'Sin...             NaN   \n",
              "\n",
              "                                            reviews_url  \\\n",
              "5211  http://steamcommunity.com/app/210970/reviews/?...   \n",
              "\n",
              "                                                  specs  price  early_access  \\\n",
              "5211  ['Single-player', 'Steam Achievements', 'Capti...  39.99         False   \n",
              "\n",
              "            id     developer      sentiment  metascore  \n",
              "5211  210970.0  Thekla, Inc.  Very Positive       87.0  "
            ],
            "text/html": [
              "\n",
              "  <div id=\"df-db085100-2566-4d35-a8ec-2d9c83919d77\">\n",
              "    <div class=\"colab-df-container\">\n",
              "      <div>\n",
              "<style scoped>\n",
              "    .dataframe tbody tr th:only-of-type {\n",
              "        vertical-align: middle;\n",
              "    }\n",
              "\n",
              "    .dataframe tbody tr th {\n",
              "        vertical-align: top;\n",
              "    }\n",
              "\n",
              "    .dataframe thead th {\n",
              "        text-align: right;\n",
              "    }\n",
              "</style>\n",
              "<table border=\"1\" class=\"dataframe\">\n",
              "  <thead>\n",
              "    <tr style=\"text-align: right;\">\n",
              "      <th></th>\n",
              "      <th>publisher</th>\n",
              "      <th>genres</th>\n",
              "      <th>app_name</th>\n",
              "      <th>title</th>\n",
              "      <th>url</th>\n",
              "      <th>release_date</th>\n",
              "      <th>tags</th>\n",
              "      <th>discount_price</th>\n",
              "      <th>reviews_url</th>\n",
              "      <th>specs</th>\n",
              "      <th>price</th>\n",
              "      <th>early_access</th>\n",
              "      <th>id</th>\n",
              "      <th>developer</th>\n",
              "      <th>sentiment</th>\n",
              "      <th>metascore</th>\n",
              "    </tr>\n",
              "  </thead>\n",
              "  <tbody>\n",
              "    <tr>\n",
              "      <th>5211</th>\n",
              "      <td>Thekla, Inc.</td>\n",
              "      <td>['Adventure', 'Indie']</td>\n",
              "      <td>The Witness</td>\n",
              "      <td>The Witness</td>\n",
              "      <td>http://store.steampowered.com/app/210970/The_W...</td>\n",
              "      <td>2016-01-26</td>\n",
              "      <td>['Puzzle', 'Exploration', 'First-Person', 'Sin...</td>\n",
              "      <td>NaN</td>\n",
              "      <td>http://steamcommunity.com/app/210970/reviews/?...</td>\n",
              "      <td>['Single-player', 'Steam Achievements', 'Capti...</td>\n",
              "      <td>39.99</td>\n",
              "      <td>False</td>\n",
              "      <td>210970.0</td>\n",
              "      <td>Thekla, Inc.</td>\n",
              "      <td>Very Positive</td>\n",
              "      <td>87.0</td>\n",
              "    </tr>\n",
              "  </tbody>\n",
              "</table>\n",
              "</div>\n",
              "      <button class=\"colab-df-convert\" onclick=\"convertToInteractive('df-db085100-2566-4d35-a8ec-2d9c83919d77')\"\n",
              "              title=\"Convert this dataframe to an interactive table.\"\n",
              "              style=\"display:none;\">\n",
              "        \n",
              "  <svg xmlns=\"http://www.w3.org/2000/svg\" height=\"24px\"viewBox=\"0 0 24 24\"\n",
              "       width=\"24px\">\n",
              "    <path d=\"M0 0h24v24H0V0z\" fill=\"none\"/>\n",
              "    <path d=\"M18.56 5.44l.94 2.06.94-2.06 2.06-.94-2.06-.94-.94-2.06-.94 2.06-2.06.94zm-11 1L8.5 8.5l.94-2.06 2.06-.94-2.06-.94L8.5 2.5l-.94 2.06-2.06.94zm10 10l.94 2.06.94-2.06 2.06-.94-2.06-.94-.94-2.06-.94 2.06-2.06.94z\"/><path d=\"M17.41 7.96l-1.37-1.37c-.4-.4-.92-.59-1.43-.59-.52 0-1.04.2-1.43.59L10.3 9.45l-7.72 7.72c-.78.78-.78 2.05 0 2.83L4 21.41c.39.39.9.59 1.41.59.51 0 1.02-.2 1.41-.59l7.78-7.78 2.81-2.81c.8-.78.8-2.07 0-2.86zM5.41 20L4 18.59l7.72-7.72 1.47 1.35L5.41 20z\"/>\n",
              "  </svg>\n",
              "      </button>\n",
              "      \n",
              "  <style>\n",
              "    .colab-df-container {\n",
              "      display:flex;\n",
              "      flex-wrap:wrap;\n",
              "      gap: 12px;\n",
              "    }\n",
              "\n",
              "    .colab-df-convert {\n",
              "      background-color: #E8F0FE;\n",
              "      border: none;\n",
              "      border-radius: 50%;\n",
              "      cursor: pointer;\n",
              "      display: none;\n",
              "      fill: #1967D2;\n",
              "      height: 32px;\n",
              "      padding: 0 0 0 0;\n",
              "      width: 32px;\n",
              "    }\n",
              "\n",
              "    .colab-df-convert:hover {\n",
              "      background-color: #E2EBFA;\n",
              "      box-shadow: 0px 1px 2px rgba(60, 64, 67, 0.3), 0px 1px 3px 1px rgba(60, 64, 67, 0.15);\n",
              "      fill: #174EA6;\n",
              "    }\n",
              "\n",
              "    [theme=dark] .colab-df-convert {\n",
              "      background-color: #3B4455;\n",
              "      fill: #D2E3FC;\n",
              "    }\n",
              "\n",
              "    [theme=dark] .colab-df-convert:hover {\n",
              "      background-color: #434B5C;\n",
              "      box-shadow: 0px 1px 3px 1px rgba(0, 0, 0, 0.15);\n",
              "      filter: drop-shadow(0px 1px 2px rgba(0, 0, 0, 0.3));\n",
              "      fill: #FFFFFF;\n",
              "    }\n",
              "  </style>\n",
              "\n",
              "      <script>\n",
              "        const buttonEl =\n",
              "          document.querySelector('#df-db085100-2566-4d35-a8ec-2d9c83919d77 button.colab-df-convert');\n",
              "        buttonEl.style.display =\n",
              "          google.colab.kernel.accessAllowed ? 'block' : 'none';\n",
              "\n",
              "        async function convertToInteractive(key) {\n",
              "          const element = document.querySelector('#df-db085100-2566-4d35-a8ec-2d9c83919d77');\n",
              "          const dataTable =\n",
              "            await google.colab.kernel.invokeFunction('convertToInteractive',\n",
              "                                                     [key], {});\n",
              "          if (!dataTable) return;\n",
              "\n",
              "          const docLinkHtml = 'Like what you see? Visit the ' +\n",
              "            '<a target=\"_blank\" href=https://colab.research.google.com/notebooks/data_table.ipynb>data table notebook</a>'\n",
              "            + ' to learn more about interactive tables.';\n",
              "          element.innerHTML = '';\n",
              "          dataTable['output_type'] = 'display_data';\n",
              "          await google.colab.output.renderOutput(dataTable, element);\n",
              "          const docLink = document.createElement('div');\n",
              "          docLink.innerHTML = docLinkHtml;\n",
              "          element.appendChild(docLink);\n",
              "        }\n",
              "      </script>\n",
              "    </div>\n",
              "  </div>\n",
              "  "
            ]
          },
          "metadata": {},
          "execution_count": 59
        }
      ],
      "source": [
        "gamesdata[gamesdata['title'] == 'The Witness']"
      ]
    },
    {
      "cell_type": "code",
      "execution_count": 61,
      "metadata": {
        "id": "_CNAo5Rx7AbA",
        "outputId": "2a44f978-c635-4018-f2d2-ea4c87130d0b",
        "colab": {
          "base_uri": "https://localhost:8080/"
        }
      },
      "outputs": [
        {
          "output_type": "stream",
          "name": "stdout",
          "text": [
            "Item of interest: The Witness\n",
            "Similar items:\n",
            "1- Headlander\n",
            "2- Quadrilateral Cowboy\n",
            "3- Parallax\n",
            "4- The Guest\n",
            "5- Oxenfree\n"
          ]
        }
      ],
      "source": [
        "# Similar items to item_id 210970 The Witness\n",
        "item_rec_list_210970 = get_item_recs(item_emdedding_matrix = item_dist, \n",
        "                              item_id = 210970, \n",
        "                              item_dict = games_dict, \n",
        "                              n_items = 5, \n",
        "                              show = True)"
      ]
    },
    {
      "cell_type": "code",
      "execution_count": 62,
      "metadata": {
        "id": "Klg_SdX17AbA",
        "outputId": "91dcdf7d-2e85-465d-c6e6-4683909561f6",
        "colab": {
          "base_uri": "https://localhost:8080/",
          "height": 214
        }
      },
      "outputs": [
        {
          "output_type": "execute_result",
          "data": {
            "text/plain": [
              "          publisher                   genres                  app_name  \\\n",
              "24195  SCS Software  ['Indie', 'Simulation']  American Truck Simulator   \n",
              "\n",
              "                          title  \\\n",
              "24195  American Truck Simulator   \n",
              "\n",
              "                                                     url release_date  \\\n",
              "24195  http://store.steampowered.com/app/270880/Ameri...   2016-02-02   \n",
              "\n",
              "                                                    tags  discount_price  \\\n",
              "24195  ['Simulation', 'Driving', 'Open World', 'Ameri...             NaN   \n",
              "\n",
              "                                             reviews_url  \\\n",
              "24195  http://steamcommunity.com/app/270880/reviews/?...   \n",
              "\n",
              "                                                   specs  price  early_access  \\\n",
              "24195  ['Single-player', 'Steam Achievements', 'Steam...  19.99         False   \n",
              "\n",
              "             id     developer      sentiment  metascore  \n",
              "24195  270880.0  SCS Software  Very Positive       76.0  "
            ],
            "text/html": [
              "\n",
              "  <div id=\"df-757c033d-6241-42fa-adaf-f7ea7d978134\">\n",
              "    <div class=\"colab-df-container\">\n",
              "      <div>\n",
              "<style scoped>\n",
              "    .dataframe tbody tr th:only-of-type {\n",
              "        vertical-align: middle;\n",
              "    }\n",
              "\n",
              "    .dataframe tbody tr th {\n",
              "        vertical-align: top;\n",
              "    }\n",
              "\n",
              "    .dataframe thead th {\n",
              "        text-align: right;\n",
              "    }\n",
              "</style>\n",
              "<table border=\"1\" class=\"dataframe\">\n",
              "  <thead>\n",
              "    <tr style=\"text-align: right;\">\n",
              "      <th></th>\n",
              "      <th>publisher</th>\n",
              "      <th>genres</th>\n",
              "      <th>app_name</th>\n",
              "      <th>title</th>\n",
              "      <th>url</th>\n",
              "      <th>release_date</th>\n",
              "      <th>tags</th>\n",
              "      <th>discount_price</th>\n",
              "      <th>reviews_url</th>\n",
              "      <th>specs</th>\n",
              "      <th>price</th>\n",
              "      <th>early_access</th>\n",
              "      <th>id</th>\n",
              "      <th>developer</th>\n",
              "      <th>sentiment</th>\n",
              "      <th>metascore</th>\n",
              "    </tr>\n",
              "  </thead>\n",
              "  <tbody>\n",
              "    <tr>\n",
              "      <th>24195</th>\n",
              "      <td>SCS Software</td>\n",
              "      <td>['Indie', 'Simulation']</td>\n",
              "      <td>American Truck Simulator</td>\n",
              "      <td>American Truck Simulator</td>\n",
              "      <td>http://store.steampowered.com/app/270880/Ameri...</td>\n",
              "      <td>2016-02-02</td>\n",
              "      <td>['Simulation', 'Driving', 'Open World', 'Ameri...</td>\n",
              "      <td>NaN</td>\n",
              "      <td>http://steamcommunity.com/app/270880/reviews/?...</td>\n",
              "      <td>['Single-player', 'Steam Achievements', 'Steam...</td>\n",
              "      <td>19.99</td>\n",
              "      <td>False</td>\n",
              "      <td>270880.0</td>\n",
              "      <td>SCS Software</td>\n",
              "      <td>Very Positive</td>\n",
              "      <td>76.0</td>\n",
              "    </tr>\n",
              "  </tbody>\n",
              "</table>\n",
              "</div>\n",
              "      <button class=\"colab-df-convert\" onclick=\"convertToInteractive('df-757c033d-6241-42fa-adaf-f7ea7d978134')\"\n",
              "              title=\"Convert this dataframe to an interactive table.\"\n",
              "              style=\"display:none;\">\n",
              "        \n",
              "  <svg xmlns=\"http://www.w3.org/2000/svg\" height=\"24px\"viewBox=\"0 0 24 24\"\n",
              "       width=\"24px\">\n",
              "    <path d=\"M0 0h24v24H0V0z\" fill=\"none\"/>\n",
              "    <path d=\"M18.56 5.44l.94 2.06.94-2.06 2.06-.94-2.06-.94-.94-2.06-.94 2.06-2.06.94zm-11 1L8.5 8.5l.94-2.06 2.06-.94-2.06-.94L8.5 2.5l-.94 2.06-2.06.94zm10 10l.94 2.06.94-2.06 2.06-.94-2.06-.94-.94-2.06-.94 2.06-2.06.94z\"/><path d=\"M17.41 7.96l-1.37-1.37c-.4-.4-.92-.59-1.43-.59-.52 0-1.04.2-1.43.59L10.3 9.45l-7.72 7.72c-.78.78-.78 2.05 0 2.83L4 21.41c.39.39.9.59 1.41.59.51 0 1.02-.2 1.41-.59l7.78-7.78 2.81-2.81c.8-.78.8-2.07 0-2.86zM5.41 20L4 18.59l7.72-7.72 1.47 1.35L5.41 20z\"/>\n",
              "  </svg>\n",
              "      </button>\n",
              "      \n",
              "  <style>\n",
              "    .colab-df-container {\n",
              "      display:flex;\n",
              "      flex-wrap:wrap;\n",
              "      gap: 12px;\n",
              "    }\n",
              "\n",
              "    .colab-df-convert {\n",
              "      background-color: #E8F0FE;\n",
              "      border: none;\n",
              "      border-radius: 50%;\n",
              "      cursor: pointer;\n",
              "      display: none;\n",
              "      fill: #1967D2;\n",
              "      height: 32px;\n",
              "      padding: 0 0 0 0;\n",
              "      width: 32px;\n",
              "    }\n",
              "\n",
              "    .colab-df-convert:hover {\n",
              "      background-color: #E2EBFA;\n",
              "      box-shadow: 0px 1px 2px rgba(60, 64, 67, 0.3), 0px 1px 3px 1px rgba(60, 64, 67, 0.15);\n",
              "      fill: #174EA6;\n",
              "    }\n",
              "\n",
              "    [theme=dark] .colab-df-convert {\n",
              "      background-color: #3B4455;\n",
              "      fill: #D2E3FC;\n",
              "    }\n",
              "\n",
              "    [theme=dark] .colab-df-convert:hover {\n",
              "      background-color: #434B5C;\n",
              "      box-shadow: 0px 1px 3px 1px rgba(0, 0, 0, 0.15);\n",
              "      filter: drop-shadow(0px 1px 2px rgba(0, 0, 0, 0.3));\n",
              "      fill: #FFFFFF;\n",
              "    }\n",
              "  </style>\n",
              "\n",
              "      <script>\n",
              "        const buttonEl =\n",
              "          document.querySelector('#df-757c033d-6241-42fa-adaf-f7ea7d978134 button.colab-df-convert');\n",
              "        buttonEl.style.display =\n",
              "          google.colab.kernel.accessAllowed ? 'block' : 'none';\n",
              "\n",
              "        async function convertToInteractive(key) {\n",
              "          const element = document.querySelector('#df-757c033d-6241-42fa-adaf-f7ea7d978134');\n",
              "          const dataTable =\n",
              "            await google.colab.kernel.invokeFunction('convertToInteractive',\n",
              "                                                     [key], {});\n",
              "          if (!dataTable) return;\n",
              "\n",
              "          const docLinkHtml = 'Like what you see? Visit the ' +\n",
              "            '<a target=\"_blank\" href=https://colab.research.google.com/notebooks/data_table.ipynb>data table notebook</a>'\n",
              "            + ' to learn more about interactive tables.';\n",
              "          element.innerHTML = '';\n",
              "          dataTable['output_type'] = 'display_data';\n",
              "          await google.colab.output.renderOutput(dataTable, element);\n",
              "          const docLink = document.createElement('div');\n",
              "          docLink.innerHTML = docLinkHtml;\n",
              "          element.appendChild(docLink);\n",
              "        }\n",
              "      </script>\n",
              "    </div>\n",
              "  </div>\n",
              "  "
            ]
          },
          "metadata": {},
          "execution_count": 62
        }
      ],
      "source": [
        "gamesdata[gamesdata['title'] == 'American Truck Simulator']"
      ]
    },
    {
      "cell_type": "code",
      "execution_count": 63,
      "metadata": {
        "id": "_etogHQ_7AbA",
        "outputId": "a6983c55-5484-4729-c0cf-a4132c1a8106",
        "colab": {
          "base_uri": "https://localhost:8080/"
        }
      },
      "outputs": [
        {
          "output_type": "stream",
          "name": "stdout",
          "text": [
            "Item of interest: American Truck Simulator\n",
            "Similar items:\n",
            "1- Farming Simulator 15\n",
            "2- F1 2016\n",
            "3- Bus Simulator 16\n",
            "4- OMSI 2: Steam Edition\n",
            "5- BeamNG.drive\n"
          ]
        }
      ],
      "source": [
        "# Similar items to item_id 270880 American Truck Simulator\n",
        "item_rec_list_270880 = get_item_recs(item_emdedding_matrix = item_dist, \n",
        "                              item_id = 270880, \n",
        "                              item_dict = games_dict, \n",
        "                              n_items = 5, \n",
        "                              show = True)"
      ]
    }
  ],
  "metadata": {
    "kernelspec": {
      "display_name": "Python 3 (ipykernel)",
      "language": "python",
      "name": "python3"
    },
    "language_info": {
      "codemirror_mode": {
        "name": "ipython",
        "version": 3
      },
      "file_extension": ".py",
      "mimetype": "text/x-python",
      "name": "python",
      "nbconvert_exporter": "python",
      "pygments_lexer": "ipython3",
      "version": "3.9.12"
    },
    "toc": {
      "base_numbering": 1,
      "nav_menu": {},
      "number_sections": true,
      "sideBar": true,
      "skip_h1_title": true,
      "title_cell": "Table of Contents",
      "title_sidebar": "Contents",
      "toc_cell": false,
      "toc_position": {},
      "toc_section_display": true,
      "toc_window_display": true
    },
    "colab": {
      "provenance": []
    }
  },
  "nbformat": 4,
  "nbformat_minor": 0
}